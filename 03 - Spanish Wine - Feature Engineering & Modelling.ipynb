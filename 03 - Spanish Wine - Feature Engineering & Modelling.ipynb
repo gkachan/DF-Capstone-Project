{
 "cells": [
  {
   "cell_type": "code",
   "execution_count": 49,
   "metadata": {
    "collapsed": true
   },
   "outputs": [],
   "source": [
    "import numpy as np\n",
    "import pandas as pd\n",
    "import matplotlib.pyplot as plt\n",
    "\n",
    "from sklearn.model_selection import train_test_split\n",
    "from feature_engine.encoding import RareLabelEncoder\n",
    "from feature_engine.encoding import OneHotEncoder\n",
    "from sklearn.pipeline import Pipeline\n",
    "from sklearn.preprocessing import MinMaxScaler\n",
    "from sklearn.ensemble import ExtraTreesRegressor, GradientBoostingRegressor, HistGradientBoostingRegressor, RandomForestRegressor, BaggingRegressor, AdaBoostRegressor\n",
    "from sklearn.metrics import mean_squared_error, r2_score\n",
    "from sklearn.tree import DecisionTreeRegressor, ExtraTreeRegressor\n",
    "from sklearn.linear_model import LinearRegression\n",
    "from sklearn.neural_network import MLPRegressor\n",
    "from lightgbm import LGBMRegressor\n",
    "\n",
    "from sklearn.model_selection import GridSearchCV\n",
    "\n",
    "from feature_engine.encoding import OrdinalEncoder\n",
    "\n",
    "from math import sqrt"
   ]
  },
  {
   "cell_type": "code",
   "execution_count": 2,
   "outputs": [
    {
     "data": {
      "text/plain": "                                       Wine  \\\n0                     Pradorey Gran Reserva   \n1             Guitián Fermentado en Barrica   \n2         Raimat Cabernet Sauvignon El Molí   \n3                    Valsacro Tinto Crianza   \n4      Ruiz Villanueva Maceración Carbónica   \n...                                     ...   \n16814                          El Cuentista   \n16815                       Pradorey Rosado   \n16816                       Pradorey Origen   \n16817                                   Lia   \n16818                              Sr. Niño   \n\n                                       Winery              Region  \\\n0      Real Sitio de la Ventosilla (Pradorey)     Castilla y León   \n1                            Bodegas A Tapada             Galicia   \n2                                      Raimat            Cataluña   \n3                            Bodegas Valsacro   La Rioja (España)   \n4                 Bodega Ecológica Bruno Ruiz  Castilla La Mancha   \n...                                       ...                 ...   \n16814  Real Sitio de la Ventosilla (Pradorey)             Unknown   \n16815  Real Sitio de la Ventosilla (Pradorey)     Castilla y León   \n16816  Real Sitio de la Ventosilla (Pradorey)     Castilla y León   \n16817  Real Sitio de la Ventosilla (Pradorey)     Castilla y León   \n16818  Real Sitio de la Ventosilla (Pradorey)     Castilla y León   \n\n                     Sub Region    Year   Type  \\\n0              Ribera del Duero  2009.0    Red   \n1                    Valdeorras  1998.0  White   \n2             Costers del Segre  1994.0    Red   \n3                         Rioja  1997.0    Red   \n4      Otros Castilla La Mancha  1999.0    Red   \n...                         ...     ...    ...   \n16814              Otros España  2018.0    Red   \n16815          Ribera del Duero  2018.0    Red   \n16816          Ribera del Duero  2018.0    Red   \n16817          Ribera del Duero  2019.0   Rose   \n16818          Ribera del Duero  2019.0    Red   \n\n                                                   Grape  Alcohol  \\\n0      Tempranillo (95%), Cabernet Sauvignon (3%), Me...     15.0   \n1                                         Godello (100%)     12.0   \n2                              Cabernet Sauvignon (100%)     13.5   \n3          Tempranillo (50%), Otras (40%), Mazuelo (10%)     13.0   \n4                                     Tempranillo (100%)     12.0   \n...                                                  ...      ...   \n16814                                        Tempranillo     13.5   \n16815                                Tempranillo, Merlot     14.5   \n16816                    Tempranillo, Cabernet Sauvignon     14.0   \n16817                                        Tempranillo     13.5   \n16818                                        Tempranillo     13.0   \n\n       Review Score  Price  \n0              16.0  40.00  \n1              16.5  13.82  \n2              16.0  15.00  \n3              14.5  18.00  \n4              12.5   4.50  \n...             ...    ...  \n16814          14.0  17.00  \n16815          14.0   9.00  \n16816          14.0   7.50  \n16817          13.5   6.50  \n16818          13.5   9.50  \n\n[16819 rows x 10 columns]",
      "text/html": "<div>\n<style scoped>\n    .dataframe tbody tr th:only-of-type {\n        vertical-align: middle;\n    }\n\n    .dataframe tbody tr th {\n        vertical-align: top;\n    }\n\n    .dataframe thead th {\n        text-align: right;\n    }\n</style>\n<table border=\"1\" class=\"dataframe\">\n  <thead>\n    <tr style=\"text-align: right;\">\n      <th></th>\n      <th>Wine</th>\n      <th>Winery</th>\n      <th>Region</th>\n      <th>Sub Region</th>\n      <th>Year</th>\n      <th>Type</th>\n      <th>Grape</th>\n      <th>Alcohol</th>\n      <th>Review Score</th>\n      <th>Price</th>\n    </tr>\n  </thead>\n  <tbody>\n    <tr>\n      <th>0</th>\n      <td>Pradorey Gran Reserva</td>\n      <td>Real Sitio de la Ventosilla (Pradorey)</td>\n      <td>Castilla y León</td>\n      <td>Ribera del Duero</td>\n      <td>2009.0</td>\n      <td>Red</td>\n      <td>Tempranillo (95%), Cabernet Sauvignon (3%), Me...</td>\n      <td>15.0</td>\n      <td>16.0</td>\n      <td>40.00</td>\n    </tr>\n    <tr>\n      <th>1</th>\n      <td>Guitián Fermentado en Barrica</td>\n      <td>Bodegas A Tapada</td>\n      <td>Galicia</td>\n      <td>Valdeorras</td>\n      <td>1998.0</td>\n      <td>White</td>\n      <td>Godello (100%)</td>\n      <td>12.0</td>\n      <td>16.5</td>\n      <td>13.82</td>\n    </tr>\n    <tr>\n      <th>2</th>\n      <td>Raimat Cabernet Sauvignon El Molí</td>\n      <td>Raimat</td>\n      <td>Cataluña</td>\n      <td>Costers del Segre</td>\n      <td>1994.0</td>\n      <td>Red</td>\n      <td>Cabernet Sauvignon (100%)</td>\n      <td>13.5</td>\n      <td>16.0</td>\n      <td>15.00</td>\n    </tr>\n    <tr>\n      <th>3</th>\n      <td>Valsacro Tinto Crianza</td>\n      <td>Bodegas Valsacro</td>\n      <td>La Rioja (España)</td>\n      <td>Rioja</td>\n      <td>1997.0</td>\n      <td>Red</td>\n      <td>Tempranillo (50%), Otras (40%), Mazuelo (10%)</td>\n      <td>13.0</td>\n      <td>14.5</td>\n      <td>18.00</td>\n    </tr>\n    <tr>\n      <th>4</th>\n      <td>Ruiz Villanueva Maceración Carbónica</td>\n      <td>Bodega Ecológica Bruno Ruiz</td>\n      <td>Castilla La Mancha</td>\n      <td>Otros Castilla La Mancha</td>\n      <td>1999.0</td>\n      <td>Red</td>\n      <td>Tempranillo (100%)</td>\n      <td>12.0</td>\n      <td>12.5</td>\n      <td>4.50</td>\n    </tr>\n    <tr>\n      <th>...</th>\n      <td>...</td>\n      <td>...</td>\n      <td>...</td>\n      <td>...</td>\n      <td>...</td>\n      <td>...</td>\n      <td>...</td>\n      <td>...</td>\n      <td>...</td>\n      <td>...</td>\n    </tr>\n    <tr>\n      <th>16814</th>\n      <td>El Cuentista</td>\n      <td>Real Sitio de la Ventosilla (Pradorey)</td>\n      <td>Unknown</td>\n      <td>Otros España</td>\n      <td>2018.0</td>\n      <td>Red</td>\n      <td>Tempranillo</td>\n      <td>13.5</td>\n      <td>14.0</td>\n      <td>17.00</td>\n    </tr>\n    <tr>\n      <th>16815</th>\n      <td>Pradorey Rosado</td>\n      <td>Real Sitio de la Ventosilla (Pradorey)</td>\n      <td>Castilla y León</td>\n      <td>Ribera del Duero</td>\n      <td>2018.0</td>\n      <td>Red</td>\n      <td>Tempranillo, Merlot</td>\n      <td>14.5</td>\n      <td>14.0</td>\n      <td>9.00</td>\n    </tr>\n    <tr>\n      <th>16816</th>\n      <td>Pradorey Origen</td>\n      <td>Real Sitio de la Ventosilla (Pradorey)</td>\n      <td>Castilla y León</td>\n      <td>Ribera del Duero</td>\n      <td>2018.0</td>\n      <td>Red</td>\n      <td>Tempranillo, Cabernet Sauvignon</td>\n      <td>14.0</td>\n      <td>14.0</td>\n      <td>7.50</td>\n    </tr>\n    <tr>\n      <th>16817</th>\n      <td>Lia</td>\n      <td>Real Sitio de la Ventosilla (Pradorey)</td>\n      <td>Castilla y León</td>\n      <td>Ribera del Duero</td>\n      <td>2019.0</td>\n      <td>Rose</td>\n      <td>Tempranillo</td>\n      <td>13.5</td>\n      <td>13.5</td>\n      <td>6.50</td>\n    </tr>\n    <tr>\n      <th>16818</th>\n      <td>Sr. Niño</td>\n      <td>Real Sitio de la Ventosilla (Pradorey)</td>\n      <td>Castilla y León</td>\n      <td>Ribera del Duero</td>\n      <td>2019.0</td>\n      <td>Red</td>\n      <td>Tempranillo</td>\n      <td>13.0</td>\n      <td>13.5</td>\n      <td>9.50</td>\n    </tr>\n  </tbody>\n</table>\n<p>16819 rows × 10 columns</p>\n</div>"
     },
     "execution_count": 2,
     "metadata": {},
     "output_type": "execute_result"
    }
   ],
   "source": [
    "spain = pd.read_csv('spanish_wines_cleaned.csv')\n",
    "spain"
   ],
   "metadata": {
    "collapsed": false
   }
  },
  {
   "cell_type": "markdown",
   "source": [
    "### Pre-Processing"
   ],
   "metadata": {
    "collapsed": false
   }
  },
  {
   "cell_type": "code",
   "execution_count": 3,
   "outputs": [
    {
     "name": "stdout",
     "output_type": "stream",
     "text": [
      "Number of categories in the variable Winery: 1770\n",
      "Number of categories in the variable Wine: 9742\n",
      "Number of categories in the variable Region: 17\n",
      "Number of categories in the variable Sub Region: 104\n",
      "Number of categories in the variable Type: 6\n",
      "Number of categories in the variable Grape: 3181\n"
     ]
    }
   ],
   "source": [
    "## Exploring cardinality\n",
    "print('Number of categories in the variable Winery: {}'.format(\n",
    "    len(spain.Winery.unique())))\n",
    "\n",
    "print('Number of categories in the variable Wine: {}'.format(\n",
    "    len(spain.Wine.unique())))\n",
    "\n",
    "print('Number of categories in the variable Region: {}'.format(\n",
    "    len(spain.Region.unique())))\n",
    "\n",
    "print('Number of categories in the variable Sub Region: {}'.format(\n",
    "    len(spain['Sub Region'].unique())))\n",
    "\n",
    "print('Number of categories in the variable Type: {}'.format(\n",
    "    len(spain.Type.unique())))\n",
    "\n",
    "print('Number of categories in the variable Grape: {}'.format(\n",
    "    len(spain.Grape.unique())))"
   ],
   "metadata": {
    "collapsed": false
   }
  },
  {
   "cell_type": "code",
   "execution_count": 4,
   "outputs": [],
   "source": [
    "## Dealing with Grapes: There are wines that come 100% from one grape and others are mixed. My approach is to extract the main grape and label the wines as pure or mixed\n",
    "\n",
    "## extract the main grape variety\n",
    "spain['Main Variety'] = spain['Grape'].str.extract('(\\w+)', expand=False)\n",
    "\n",
    "## count the number of elements\n",
    "spain['Variety Count'] = spain['Grape'].str.count(',') + 1\n",
    "\n",
    "## mark as 'Pure' if there is only one variety\n",
    "spain.loc[spain['Variety Count'] == 1, 'Variety Class'] = 'Pure'\n",
    "\n",
    "## mark as 'Mixed' if there are multiple grape varieties\n",
    "spain.loc[spain['Variety Count'] > 1, 'Variety Class'] = 'Mixed'"
   ],
   "metadata": {
    "collapsed": false
   }
  },
  {
   "cell_type": "code",
   "execution_count": 5,
   "outputs": [
    {
     "data": {
      "text/plain": "                                       Wine  \\\n0                     Pradorey Gran Reserva   \n1             Guitián Fermentado en Barrica   \n2         Raimat Cabernet Sauvignon El Molí   \n3                    Valsacro Tinto Crianza   \n4      Ruiz Villanueva Maceración Carbónica   \n...                                     ...   \n16814                          El Cuentista   \n16815                       Pradorey Rosado   \n16816                       Pradorey Origen   \n16817                                   Lia   \n16818                              Sr. Niño   \n\n                                                   Grape Main Variety  \\\n0      Tempranillo (95%), Cabernet Sauvignon (3%), Me...  Tempranillo   \n1                                         Godello (100%)      Godello   \n2                              Cabernet Sauvignon (100%)     Cabernet   \n3          Tempranillo (50%), Otras (40%), Mazuelo (10%)  Tempranillo   \n4                                     Tempranillo (100%)  Tempranillo   \n...                                                  ...          ...   \n16814                                        Tempranillo  Tempranillo   \n16815                                Tempranillo, Merlot  Tempranillo   \n16816                    Tempranillo, Cabernet Sauvignon  Tempranillo   \n16817                                        Tempranillo  Tempranillo   \n16818                                        Tempranillo  Tempranillo   \n\n      Variety Class  \n0             Mixed  \n1              Pure  \n2              Pure  \n3             Mixed  \n4              Pure  \n...             ...  \n16814          Pure  \n16815         Mixed  \n16816         Mixed  \n16817          Pure  \n16818          Pure  \n\n[16819 rows x 4 columns]",
      "text/html": "<div>\n<style scoped>\n    .dataframe tbody tr th:only-of-type {\n        vertical-align: middle;\n    }\n\n    .dataframe tbody tr th {\n        vertical-align: top;\n    }\n\n    .dataframe thead th {\n        text-align: right;\n    }\n</style>\n<table border=\"1\" class=\"dataframe\">\n  <thead>\n    <tr style=\"text-align: right;\">\n      <th></th>\n      <th>Wine</th>\n      <th>Grape</th>\n      <th>Main Variety</th>\n      <th>Variety Class</th>\n    </tr>\n  </thead>\n  <tbody>\n    <tr>\n      <th>0</th>\n      <td>Pradorey Gran Reserva</td>\n      <td>Tempranillo (95%), Cabernet Sauvignon (3%), Me...</td>\n      <td>Tempranillo</td>\n      <td>Mixed</td>\n    </tr>\n    <tr>\n      <th>1</th>\n      <td>Guitián Fermentado en Barrica</td>\n      <td>Godello (100%)</td>\n      <td>Godello</td>\n      <td>Pure</td>\n    </tr>\n    <tr>\n      <th>2</th>\n      <td>Raimat Cabernet Sauvignon El Molí</td>\n      <td>Cabernet Sauvignon (100%)</td>\n      <td>Cabernet</td>\n      <td>Pure</td>\n    </tr>\n    <tr>\n      <th>3</th>\n      <td>Valsacro Tinto Crianza</td>\n      <td>Tempranillo (50%), Otras (40%), Mazuelo (10%)</td>\n      <td>Tempranillo</td>\n      <td>Mixed</td>\n    </tr>\n    <tr>\n      <th>4</th>\n      <td>Ruiz Villanueva Maceración Carbónica</td>\n      <td>Tempranillo (100%)</td>\n      <td>Tempranillo</td>\n      <td>Pure</td>\n    </tr>\n    <tr>\n      <th>...</th>\n      <td>...</td>\n      <td>...</td>\n      <td>...</td>\n      <td>...</td>\n    </tr>\n    <tr>\n      <th>16814</th>\n      <td>El Cuentista</td>\n      <td>Tempranillo</td>\n      <td>Tempranillo</td>\n      <td>Pure</td>\n    </tr>\n    <tr>\n      <th>16815</th>\n      <td>Pradorey Rosado</td>\n      <td>Tempranillo, Merlot</td>\n      <td>Tempranillo</td>\n      <td>Mixed</td>\n    </tr>\n    <tr>\n      <th>16816</th>\n      <td>Pradorey Origen</td>\n      <td>Tempranillo, Cabernet Sauvignon</td>\n      <td>Tempranillo</td>\n      <td>Mixed</td>\n    </tr>\n    <tr>\n      <th>16817</th>\n      <td>Lia</td>\n      <td>Tempranillo</td>\n      <td>Tempranillo</td>\n      <td>Pure</td>\n    </tr>\n    <tr>\n      <th>16818</th>\n      <td>Sr. Niño</td>\n      <td>Tempranillo</td>\n      <td>Tempranillo</td>\n      <td>Pure</td>\n    </tr>\n  </tbody>\n</table>\n<p>16819 rows × 4 columns</p>\n</div>"
     },
     "execution_count": 5,
     "metadata": {},
     "output_type": "execute_result"
    }
   ],
   "source": [
    "## Visualising results:\n",
    "spain[['Wine','Grape','Main Variety','Variety Class']]"
   ],
   "metadata": {
    "collapsed": false
   }
  },
  {
   "cell_type": "code",
   "execution_count": 6,
   "outputs": [
    {
     "name": "stdout",
     "output_type": "stream",
     "text": [
      "Number of categories in the variable Grape: 3181\n",
      "Number of categories in the variable Main Variety: 157\n"
     ]
    }
   ],
   "source": [
    "## Perfect! From 3181 categories to 157 and keeping information about pureness\n",
    "print('Number of categories in the variable Grape: {}'.format(\n",
    "    len(spain.Grape.unique())))\n",
    "print('Number of categories in the variable Main Variety: {}'.format(\n",
    "    len(spain['Main Variety'].unique())))"
   ],
   "metadata": {
    "collapsed": false
   }
  },
  {
   "cell_type": "code",
   "execution_count": 7,
   "outputs": [
    {
     "data": {
      "text/plain": "<Figure size 640x480 with 1 Axes>",
      "image/png": "[encoded data removed]"
     },
     "metadata": {},
     "output_type": "display_data"
    }
   ],
   "source": [
    "## I might consider using Rare Encoding for Types of wine below 5%\n",
    "total_wines = len(spain)\n",
    "\n",
    "temp_df = pd.Series(spain['Type'].value_counts() / total_wines)\n",
    "\n",
    "fig = temp_df.sort_values(ascending=False).plot.bar()\n",
    "fig.set_xlabel('Type')\n",
    "\n",
    "fig.axhline(y=0.05, color='red')\n",
    "fig.set_ylabel('Percentage of wines')\n",
    "plt.show()"
   ],
   "metadata": {
    "collapsed": false
   }
  },
  {
   "cell_type": "code",
   "execution_count": 8,
   "outputs": [
    {
     "data": {
      "text/plain": "<Figure size 640x480 with 1 Axes>",
      "image/png": "[encoded data removed]"
     },
     "metadata": {},
     "output_type": "display_data"
    }
   ],
   "source": [
    "## I might consider using Rare Encoding for Regions of wine below 5%\n",
    "total_wines = len(spain)\n",
    "\n",
    "temp_df = pd.Series(spain['Region'].value_counts() / total_wines)\n",
    "\n",
    "fig = temp_df.sort_values(ascending=False).plot.bar()\n",
    "fig.set_xlabel('Region')\n",
    "\n",
    "fig.axhline(y=0.05, color='red')\n",
    "fig.set_ylabel('Percentage of wines')\n",
    "plt.show()"
   ],
   "metadata": {
    "collapsed": false
   }
  },
  {
   "cell_type": "code",
   "execution_count": 9,
   "outputs": [],
   "source": [
    "## I will use OHE for Type, Region and Variety Class.\n",
    "## Label Encoding for Winery, Sub Region and Main Variety as these are important features that affect price.\n",
    "## I won't use Wine in my modelling as there are 9742 unique names."
   ],
   "metadata": {
    "collapsed": false
   }
  },
  {
   "cell_type": "code",
   "execution_count": 53,
   "outputs": [],
   "source": [
    "spain.to_csv('spanish_wines_processed.csv', index=False)"
   ],
   "metadata": {
    "collapsed": false
   }
  },
  {
   "cell_type": "markdown",
   "source": [
    "## Train/Test Split"
   ],
   "metadata": {
    "collapsed": false
   }
  },
  {
   "cell_type": "code",
   "execution_count": 10,
   "outputs": [
    {
     "data": {
      "text/plain": "((13455, 9), (3364, 9))"
     },
     "execution_count": 10,
     "metadata": {},
     "output_type": "execute_result"
    }
   ],
   "source": [
    "X_train, X_test, y_train, y_test = train_test_split(\n",
    "    spain[['Winery','Region','Sub Region','Year','Type','Alcohol','Review Score','Main Variety','Variety Class']],\n",
    "    spain['Price'],\n",
    "    test_size=0.2,\n",
    "    random_state=0,\n",
    ")\n",
    "\n",
    "X_train.shape, X_test.shape"
   ],
   "metadata": {
    "collapsed": false
   }
  },
  {
   "cell_type": "code",
   "execution_count": 11,
   "outputs": [
    {
     "data": {
      "text/plain": "                                   Winery             Region  \\\n1437   Alejandro Fernández Tinto Pesquera    Castilla y León   \n8421          Bodegas Hacienda del Carche             Murcia   \n6585                        Eguren Ugarte  La Rioja (España)   \n1988                               Artadi  La Rioja (España)   \n15528         Cía. de Vinos del Atlántico            Galicia   \n\n             Sub Region    Year   Type  Alcohol  Review Score Main Variety  \\\n1437   Ribera del Duero  1998.0    Red     13.0          15.5        Tinto   \n8421            Jumilla  2009.0    Red     14.5          14.0   Monastrell   \n6585              Rioja  2005.0    Red     13.5          12.0  Tempranillo   \n1988              Rioja  2000.0    Red     13.5          18.0  Tempranillo   \n15528       Rías Baixas  2016.0  White     13.0          16.5     Albariño   \n\n      Variety Class  \n1437           Pure  \n8421          Mixed  \n6585          Mixed  \n1988           Pure  \n15528          Pure  ",
      "text/html": "<div>\n<style scoped>\n    .dataframe tbody tr th:only-of-type {\n        vertical-align: middle;\n    }\n\n    .dataframe tbody tr th {\n        vertical-align: top;\n    }\n\n    .dataframe thead th {\n        text-align: right;\n    }\n</style>\n<table border=\"1\" class=\"dataframe\">\n  <thead>\n    <tr style=\"text-align: right;\">\n      <th></th>\n      <th>Winery</th>\n      <th>Region</th>\n      <th>Sub Region</th>\n      <th>Year</th>\n      <th>Type</th>\n      <th>Alcohol</th>\n      <th>Review Score</th>\n      <th>Main Variety</th>\n      <th>Variety Class</th>\n    </tr>\n  </thead>\n  <tbody>\n    <tr>\n      <th>1437</th>\n      <td>Alejandro Fernández Tinto Pesquera</td>\n      <td>Castilla y León</td>\n      <td>Ribera del Duero</td>\n      <td>1998.0</td>\n      <td>Red</td>\n      <td>13.0</td>\n      <td>15.5</td>\n      <td>Tinto</td>\n      <td>Pure</td>\n    </tr>\n    <tr>\n      <th>8421</th>\n      <td>Bodegas Hacienda del Carche</td>\n      <td>Murcia</td>\n      <td>Jumilla</td>\n      <td>2009.0</td>\n      <td>Red</td>\n      <td>14.5</td>\n      <td>14.0</td>\n      <td>Monastrell</td>\n      <td>Mixed</td>\n    </tr>\n    <tr>\n      <th>6585</th>\n      <td>Eguren Ugarte</td>\n      <td>La Rioja (España)</td>\n      <td>Rioja</td>\n      <td>2005.0</td>\n      <td>Red</td>\n      <td>13.5</td>\n      <td>12.0</td>\n      <td>Tempranillo</td>\n      <td>Mixed</td>\n    </tr>\n    <tr>\n      <th>1988</th>\n      <td>Artadi</td>\n      <td>La Rioja (España)</td>\n      <td>Rioja</td>\n      <td>2000.0</td>\n      <td>Red</td>\n      <td>13.5</td>\n      <td>18.0</td>\n      <td>Tempranillo</td>\n      <td>Pure</td>\n    </tr>\n    <tr>\n      <th>15528</th>\n      <td>Cía. de Vinos del Atlántico</td>\n      <td>Galicia</td>\n      <td>Rías Baixas</td>\n      <td>2016.0</td>\n      <td>White</td>\n      <td>13.0</td>\n      <td>16.5</td>\n      <td>Albariño</td>\n      <td>Pure</td>\n    </tr>\n  </tbody>\n</table>\n</div>"
     },
     "execution_count": 11,
     "metadata": {},
     "output_type": "execute_result"
    }
   ],
   "source": [
    "X_train.head(5)"
   ],
   "metadata": {
    "collapsed": false
   }
  },
  {
   "cell_type": "code",
   "execution_count": 12,
   "outputs": [
    {
     "data": {
      "text/plain": "                                  Winery             Region        Sub Region  \\\n6391                         Buil & Giné           Cataluña           Priorat   \n14930                Adega Ponte da Boga            Galicia     Ribeira Sacra   \n9281                        Viña Albares    Castilla y León            Bierzo   \n2795      Bodegas y Viñedos Viña Solorca    Castilla y León  Ribera del Duero   \n14712  Bodegas y Viñedos Ortega Ezquerro  La Rioja (España)             Rioja   \n\n         Year   Type  Alcohol  Review Score Main Variety Variety Class  \n6391   2007.0    Red     14.0          14.0     Garnacha         Mixed  \n14930  2016.0  White     13.0          15.0     Albariño          Pure  \n9281   2010.0    Red     13.0          12.5       Mencía          Pure  \n2795   1999.0    Red     13.5          12.5        Tinto          Pure  \n14712  2014.0    Red     14.0          16.0  Tempranillo         Mixed  ",
      "text/html": "<div>\n<style scoped>\n    .dataframe tbody tr th:only-of-type {\n        vertical-align: middle;\n    }\n\n    .dataframe tbody tr th {\n        vertical-align: top;\n    }\n\n    .dataframe thead th {\n        text-align: right;\n    }\n</style>\n<table border=\"1\" class=\"dataframe\">\n  <thead>\n    <tr style=\"text-align: right;\">\n      <th></th>\n      <th>Winery</th>\n      <th>Region</th>\n      <th>Sub Region</th>\n      <th>Year</th>\n      <th>Type</th>\n      <th>Alcohol</th>\n      <th>Review Score</th>\n      <th>Main Variety</th>\n      <th>Variety Class</th>\n    </tr>\n  </thead>\n  <tbody>\n    <tr>\n      <th>6391</th>\n      <td>Buil &amp; Giné</td>\n      <td>Cataluña</td>\n      <td>Priorat</td>\n      <td>2007.0</td>\n      <td>Red</td>\n      <td>14.0</td>\n      <td>14.0</td>\n      <td>Garnacha</td>\n      <td>Mixed</td>\n    </tr>\n    <tr>\n      <th>14930</th>\n      <td>Adega Ponte da Boga</td>\n      <td>Galicia</td>\n      <td>Ribeira Sacra</td>\n      <td>2016.0</td>\n      <td>White</td>\n      <td>13.0</td>\n      <td>15.0</td>\n      <td>Albariño</td>\n      <td>Pure</td>\n    </tr>\n    <tr>\n      <th>9281</th>\n      <td>Viña Albares</td>\n      <td>Castilla y León</td>\n      <td>Bierzo</td>\n      <td>2010.0</td>\n      <td>Red</td>\n      <td>13.0</td>\n      <td>12.5</td>\n      <td>Mencía</td>\n      <td>Pure</td>\n    </tr>\n    <tr>\n      <th>2795</th>\n      <td>Bodegas y Viñedos Viña Solorca</td>\n      <td>Castilla y León</td>\n      <td>Ribera del Duero</td>\n      <td>1999.0</td>\n      <td>Red</td>\n      <td>13.5</td>\n      <td>12.5</td>\n      <td>Tinto</td>\n      <td>Pure</td>\n    </tr>\n    <tr>\n      <th>14712</th>\n      <td>Bodegas y Viñedos Ortega Ezquerro</td>\n      <td>La Rioja (España)</td>\n      <td>Rioja</td>\n      <td>2014.0</td>\n      <td>Red</td>\n      <td>14.0</td>\n      <td>16.0</td>\n      <td>Tempranillo</td>\n      <td>Mixed</td>\n    </tr>\n  </tbody>\n</table>\n</div>"
     },
     "execution_count": 12,
     "metadata": {},
     "output_type": "execute_result"
    }
   ],
   "source": [
    "X_test.head(5)"
   ],
   "metadata": {
    "collapsed": false
   }
  },
  {
   "cell_type": "markdown",
   "source": [
    "## Feature Engineering"
   ],
   "metadata": {
    "collapsed": false
   }
  },
  {
   "cell_type": "markdown",
   "source": [
    "### Rare Label Encoding"
   ],
   "metadata": {
    "collapsed": false
   }
  },
  {
   "cell_type": "code",
   "execution_count": 13,
   "outputs": [],
   "source": [
    "rare_encoder = RareLabelEncoder(tol=0.05, n_categories=4, variables=['Type','Region'])\n",
    "X_train_rare = rare_encoder.fit_transform(X_train)\n",
    "X_test_rare = rare_encoder.transform(X_test)"
   ],
   "metadata": {
    "collapsed": false
   }
  },
  {
   "cell_type": "code",
   "execution_count": 14,
   "outputs": [
    {
     "data": {
      "text/plain": "                                  Winery             Region        Sub Region  \\\n6391                         Buil & Giné           Cataluña           Priorat   \n14930                Adega Ponte da Boga            Galicia     Ribeira Sacra   \n9281                        Viña Albares    Castilla y León            Bierzo   \n2795      Bodegas y Viñedos Viña Solorca    Castilla y León  Ribera del Duero   \n14712  Bodegas y Viñedos Ortega Ezquerro  La Rioja (España)             Rioja   \n\n         Year   Type  Alcohol  Review Score Main Variety Variety Class  \n6391   2007.0    Red     14.0          14.0     Garnacha         Mixed  \n14930  2016.0  White     13.0          15.0     Albariño          Pure  \n9281   2010.0    Red     13.0          12.5       Mencía          Pure  \n2795   1999.0    Red     13.5          12.5        Tinto          Pure  \n14712  2014.0    Red     14.0          16.0  Tempranillo         Mixed  ",
      "text/html": "<div>\n<style scoped>\n    .dataframe tbody tr th:only-of-type {\n        vertical-align: middle;\n    }\n\n    .dataframe tbody tr th {\n        vertical-align: top;\n    }\n\n    .dataframe thead th {\n        text-align: right;\n    }\n</style>\n<table border=\"1\" class=\"dataframe\">\n  <thead>\n    <tr style=\"text-align: right;\">\n      <th></th>\n      <th>Winery</th>\n      <th>Region</th>\n      <th>Sub Region</th>\n      <th>Year</th>\n      <th>Type</th>\n      <th>Alcohol</th>\n      <th>Review Score</th>\n      <th>Main Variety</th>\n      <th>Variety Class</th>\n    </tr>\n  </thead>\n  <tbody>\n    <tr>\n      <th>6391</th>\n      <td>Buil &amp; Giné</td>\n      <td>Cataluña</td>\n      <td>Priorat</td>\n      <td>2007.0</td>\n      <td>Red</td>\n      <td>14.0</td>\n      <td>14.0</td>\n      <td>Garnacha</td>\n      <td>Mixed</td>\n    </tr>\n    <tr>\n      <th>14930</th>\n      <td>Adega Ponte da Boga</td>\n      <td>Galicia</td>\n      <td>Ribeira Sacra</td>\n      <td>2016.0</td>\n      <td>White</td>\n      <td>13.0</td>\n      <td>15.0</td>\n      <td>Albariño</td>\n      <td>Pure</td>\n    </tr>\n    <tr>\n      <th>9281</th>\n      <td>Viña Albares</td>\n      <td>Castilla y León</td>\n      <td>Bierzo</td>\n      <td>2010.0</td>\n      <td>Red</td>\n      <td>13.0</td>\n      <td>12.5</td>\n      <td>Mencía</td>\n      <td>Pure</td>\n    </tr>\n    <tr>\n      <th>2795</th>\n      <td>Bodegas y Viñedos Viña Solorca</td>\n      <td>Castilla y León</td>\n      <td>Ribera del Duero</td>\n      <td>1999.0</td>\n      <td>Red</td>\n      <td>13.5</td>\n      <td>12.5</td>\n      <td>Tinto</td>\n      <td>Pure</td>\n    </tr>\n    <tr>\n      <th>14712</th>\n      <td>Bodegas y Viñedos Ortega Ezquerro</td>\n      <td>La Rioja (España)</td>\n      <td>Rioja</td>\n      <td>2014.0</td>\n      <td>Red</td>\n      <td>14.0</td>\n      <td>16.0</td>\n      <td>Tempranillo</td>\n      <td>Mixed</td>\n    </tr>\n  </tbody>\n</table>\n</div>"
     },
     "execution_count": 14,
     "metadata": {},
     "output_type": "execute_result"
    }
   ],
   "source": [
    "X_test_rare.head(5)"
   ],
   "metadata": {
    "collapsed": false
   }
  },
  {
   "cell_type": "markdown",
   "source": [
    "### Ordered Ordinal Encoding"
   ],
   "metadata": {
    "collapsed": false
   }
  },
  {
   "cell_type": "code",
   "execution_count": 15,
   "outputs": [],
   "source": [
    "vars_to_use = ['Winery','Sub Region','Main Variety']\n",
    "enc = OrdinalEncoder(encoding_method='ordered',variables=vars_to_use,unseen='encode')\n",
    "X_train_ordered = enc.fit_transform(X_train_rare,y_train)\n",
    "X_test_ordered = enc.transform(X_test_rare)"
   ],
   "metadata": {
    "collapsed": false
   }
  },
  {
   "cell_type": "code",
   "execution_count": 16,
   "outputs": [
    {
     "data": {
      "text/plain": "       Winery             Region  Sub Region    Year   Type  Alcohol  \\\n6391     1047           Cataluña          94  2007.0    Red     14.0   \n14930    1046            Galicia          71  2016.0  White     13.0   \n9281      438    Castilla y León          60  2010.0    Red     13.0   \n2795      806    Castilla y León          89  1999.0    Red     13.5   \n14712     891  La Rioja (España)          82  2014.0    Red     14.0   \n\n       Review Score  Main Variety Variety Class  \n6391           14.0            89         Mixed  \n14930          15.0            47          Pure  \n9281           12.5            83          Pure  \n2795           12.5           116          Pure  \n14712          16.0           104         Mixed  ",
      "text/html": "<div>\n<style scoped>\n    .dataframe tbody tr th:only-of-type {\n        vertical-align: middle;\n    }\n\n    .dataframe tbody tr th {\n        vertical-align: top;\n    }\n\n    .dataframe thead th {\n        text-align: right;\n    }\n</style>\n<table border=\"1\" class=\"dataframe\">\n  <thead>\n    <tr style=\"text-align: right;\">\n      <th></th>\n      <th>Winery</th>\n      <th>Region</th>\n      <th>Sub Region</th>\n      <th>Year</th>\n      <th>Type</th>\n      <th>Alcohol</th>\n      <th>Review Score</th>\n      <th>Main Variety</th>\n      <th>Variety Class</th>\n    </tr>\n  </thead>\n  <tbody>\n    <tr>\n      <th>6391</th>\n      <td>1047</td>\n      <td>Cataluña</td>\n      <td>94</td>\n      <td>2007.0</td>\n      <td>Red</td>\n      <td>14.0</td>\n      <td>14.0</td>\n      <td>89</td>\n      <td>Mixed</td>\n    </tr>\n    <tr>\n      <th>14930</th>\n      <td>1046</td>\n      <td>Galicia</td>\n      <td>71</td>\n      <td>2016.0</td>\n      <td>White</td>\n      <td>13.0</td>\n      <td>15.0</td>\n      <td>47</td>\n      <td>Pure</td>\n    </tr>\n    <tr>\n      <th>9281</th>\n      <td>438</td>\n      <td>Castilla y León</td>\n      <td>60</td>\n      <td>2010.0</td>\n      <td>Red</td>\n      <td>13.0</td>\n      <td>12.5</td>\n      <td>83</td>\n      <td>Pure</td>\n    </tr>\n    <tr>\n      <th>2795</th>\n      <td>806</td>\n      <td>Castilla y León</td>\n      <td>89</td>\n      <td>1999.0</td>\n      <td>Red</td>\n      <td>13.5</td>\n      <td>12.5</td>\n      <td>116</td>\n      <td>Pure</td>\n    </tr>\n    <tr>\n      <th>14712</th>\n      <td>891</td>\n      <td>La Rioja (España)</td>\n      <td>82</td>\n      <td>2014.0</td>\n      <td>Red</td>\n      <td>14.0</td>\n      <td>16.0</td>\n      <td>104</td>\n      <td>Mixed</td>\n    </tr>\n  </tbody>\n</table>\n</div>"
     },
     "execution_count": 16,
     "metadata": {},
     "output_type": "execute_result"
    }
   ],
   "source": [
    "X_test_ordered.head(5)"
   ],
   "metadata": {
    "collapsed": false
   }
  },
  {
   "cell_type": "markdown",
   "source": [
    "### One Hot Encoding"
   ],
   "metadata": {
    "collapsed": false
   }
  },
  {
   "cell_type": "code",
   "execution_count": 17,
   "outputs": [],
   "source": [
    "cols_to_use = ['Region','Type','Variety Class']\n",
    "oh_encoder = OneHotEncoder(variables=cols_to_use, drop_last=True)\n",
    "X_train_ohe = oh_encoder.fit_transform(X_train_ordered)\n",
    "X_test_ohe = oh_encoder.transform(X_test_ordered)"
   ],
   "metadata": {
    "collapsed": false
   }
  },
  {
   "cell_type": "code",
   "execution_count": 18,
   "outputs": [
    {
     "data": {
      "text/plain": "       Winery  Sub Region    Year  Alcohol  Review Score  Main Variety  \\\n6391     1047          94  2007.0     14.0          14.0            89   \n14930    1046          71  2016.0     13.0          15.0            47   \n9281      438          60  2010.0     13.0          12.5            83   \n2795      806          89  1999.0     13.5          12.5           116   \n14712     891          82  2014.0     14.0          16.0           104   \n\n       Region_Castilla y León  Region_Rare  Region_La Rioja (España)  \\\n6391                        0            0                         0   \n14930                       0            0                         0   \n9281                        1            0                         0   \n2795                        1            0                         0   \n14712                       0            0                         1   \n\n       Region_Galicia  Region_Cataluña  Region_Castilla La Mancha  \\\n6391                0                1                          0   \n14930               1                0                          0   \n9281                0                0                          0   \n2795                0                0                          0   \n14712               0                0                          0   \n\n       Region_Unknown  Type_Red  Type_White  Variety Class_Pure  \n6391                0         1           0                   0  \n14930               0         0           1                   1  \n9281                0         1           0                   1  \n2795                0         1           0                   1  \n14712               0         1           0                   0  ",
      "text/html": "<div>\n<style scoped>\n    .dataframe tbody tr th:only-of-type {\n        vertical-align: middle;\n    }\n\n    .dataframe tbody tr th {\n        vertical-align: top;\n    }\n\n    .dataframe thead th {\n        text-align: right;\n    }\n</style>\n<table border=\"1\" class=\"dataframe\">\n  <thead>\n    <tr style=\"text-align: right;\">\n      <th></th>\n      <th>Winery</th>\n      <th>Sub Region</th>\n      <th>Year</th>\n      <th>Alcohol</th>\n      <th>Review Score</th>\n      <th>Main Variety</th>\n      <th>Region_Castilla y León</th>\n      <th>Region_Rare</th>\n      <th>Region_La Rioja (España)</th>\n      <th>Region_Galicia</th>\n      <th>Region_Cataluña</th>\n      <th>Region_Castilla La Mancha</th>\n      <th>Region_Unknown</th>\n      <th>Type_Red</th>\n      <th>Type_White</th>\n      <th>Variety Class_Pure</th>\n    </tr>\n  </thead>\n  <tbody>\n    <tr>\n      <th>6391</th>\n      <td>1047</td>\n      <td>94</td>\n      <td>2007.0</td>\n      <td>14.0</td>\n      <td>14.0</td>\n      <td>89</td>\n      <td>0</td>\n      <td>0</td>\n      <td>0</td>\n      <td>0</td>\n      <td>1</td>\n      <td>0</td>\n      <td>0</td>\n      <td>1</td>\n      <td>0</td>\n      <td>0</td>\n    </tr>\n    <tr>\n      <th>14930</th>\n      <td>1046</td>\n      <td>71</td>\n      <td>2016.0</td>\n      <td>13.0</td>\n      <td>15.0</td>\n      <td>47</td>\n      <td>0</td>\n      <td>0</td>\n      <td>0</td>\n      <td>1</td>\n      <td>0</td>\n      <td>0</td>\n      <td>0</td>\n      <td>0</td>\n      <td>1</td>\n      <td>1</td>\n    </tr>\n    <tr>\n      <th>9281</th>\n      <td>438</td>\n      <td>60</td>\n      <td>2010.0</td>\n      <td>13.0</td>\n      <td>12.5</td>\n      <td>83</td>\n      <td>1</td>\n      <td>0</td>\n      <td>0</td>\n      <td>0</td>\n      <td>0</td>\n      <td>0</td>\n      <td>0</td>\n      <td>1</td>\n      <td>0</td>\n      <td>1</td>\n    </tr>\n    <tr>\n      <th>2795</th>\n      <td>806</td>\n      <td>89</td>\n      <td>1999.0</td>\n      <td>13.5</td>\n      <td>12.5</td>\n      <td>116</td>\n      <td>1</td>\n      <td>0</td>\n      <td>0</td>\n      <td>0</td>\n      <td>0</td>\n      <td>0</td>\n      <td>0</td>\n      <td>1</td>\n      <td>0</td>\n      <td>1</td>\n    </tr>\n    <tr>\n      <th>14712</th>\n      <td>891</td>\n      <td>82</td>\n      <td>2014.0</td>\n      <td>14.0</td>\n      <td>16.0</td>\n      <td>104</td>\n      <td>0</td>\n      <td>0</td>\n      <td>1</td>\n      <td>0</td>\n      <td>0</td>\n      <td>0</td>\n      <td>0</td>\n      <td>1</td>\n      <td>0</td>\n      <td>0</td>\n    </tr>\n  </tbody>\n</table>\n</div>"
     },
     "execution_count": 18,
     "metadata": {},
     "output_type": "execute_result"
    }
   ],
   "source": [
    "X_test_ohe.head(5)"
   ],
   "metadata": {
    "collapsed": false
   }
  },
  {
   "cell_type": "markdown",
   "source": [
    "### Putting it all together"
   ],
   "metadata": {
    "collapsed": false
   }
  },
  {
   "cell_type": "code",
   "execution_count": 19,
   "outputs": [],
   "source": [
    "spain_pipe = Pipeline([\n",
    "\n",
    "    ## Rare Label Encoding\n",
    "    ('rare_encoder',\n",
    "     RareLabelEncoder(tol=0.05, n_categories=4, variables=['Type','Region'])),\n",
    "\n",
    "    ## Ordered Ordinal Encoding\n",
    "    ('ordinal_encoder',\n",
    "     OrdinalEncoder(encoding_method='ordered', variables=['Winery','Sub Region','Main Variety'], unseen='encode')),\n",
    "\n",
    "    ## One Hot Encoding\n",
    "    ('encoder_rare_label',\n",
    "     OneHotEncoder(variables=['Region','Type','Variety Class'], drop_last=True)),\n",
    "\n",
    "    ## Scaling\n",
    "    ('minmax_scaler',\n",
    "     MinMaxScaler()),\n",
    "])"
   ],
   "metadata": {
    "collapsed": false
   }
  },
  {
   "cell_type": "code",
   "execution_count": 20,
   "outputs": [
    {
     "data": {
      "text/plain": "Pipeline(steps=[('rare_encoder',\n                 RareLabelEncoder(n_categories=4,\n                                  variables=['Type', 'Region'])),\n                ('ordinal_encoder',\n                 OrdinalEncoder(unseen='encode',\n                                variables=['Winery', 'Sub Region',\n                                           'Main Variety'])),\n                ('encoder_rare_label',\n                 OneHotEncoder(drop_last=True,\n                               variables=['Region', 'Type', 'Variety Class'])),\n                ('minmax_scaler', MinMaxScaler())])",
      "text/html": "<style>#sk-container-id-1 {color: black;background-color: white;}#sk-container-id-1 pre{padding: 0;}#sk-container-id-1 div.sk-toggleable {background-color: white;}#sk-container-id-1 label.sk-toggleable__label {cursor: pointer;display: block;width: 100%;margin-bottom: 0;padding: 0.3em;box-sizing: border-box;text-align: center;}#sk-container-id-1 label.sk-toggleable__label-arrow:before {content: \"▸\";float: left;margin-right: 0.25em;color: #696969;}#sk-container-id-1 label.sk-toggleable__label-arrow:hover:before {color: black;}#sk-container-id-1 div.sk-estimator:hover label.sk-toggleable__label-arrow:before {color: black;}#sk-container-id-1 div.sk-toggleable__content {max-height: 0;max-width: 0;overflow: hidden;text-align: left;background-color: #f0f8ff;}#sk-container-id-1 div.sk-toggleable__content pre {margin: 0.2em;color: black;border-radius: 0.25em;background-color: #f0f8ff;}#sk-container-id-1 input.sk-toggleable__control:checked~div.sk-toggleable__content {max-height: 200px;max-width: 100%;overflow: auto;}#sk-container-id-1 input.sk-toggleable__control:checked~label.sk-toggleable__label-arrow:before {content: \"▾\";}#sk-container-id-1 div.sk-estimator input.sk-toggleable__control:checked~label.sk-toggleable__label {background-color: #d4ebff;}#sk-container-id-1 div.sk-label input.sk-toggleable__control:checked~label.sk-toggleable__label {background-color: #d4ebff;}#sk-container-id-1 input.sk-hidden--visually {border: 0;clip: rect(1px 1px 1px 1px);clip: rect(1px, 1px, 1px, 1px);height: 1px;margin: -1px;overflow: hidden;padding: 0;position: absolute;width: 1px;}#sk-container-id-1 div.sk-estimator {font-family: monospace;background-color: #f0f8ff;border: 1px dotted black;border-radius: 0.25em;box-sizing: border-box;margin-bottom: 0.5em;}#sk-container-id-1 div.sk-estimator:hover {background-color: #d4ebff;}#sk-container-id-1 div.sk-parallel-item::after {content: \"\";width: 100%;border-bottom: 1px solid gray;flex-grow: 1;}#sk-container-id-1 div.sk-label:hover label.sk-toggleable__label {background-color: #d4ebff;}#sk-container-id-1 div.sk-serial::before {content: \"\";position: absolute;border-left: 1px solid gray;box-sizing: border-box;top: 0;bottom: 0;left: 50%;z-index: 0;}#sk-container-id-1 div.sk-serial {display: flex;flex-direction: column;align-items: center;background-color: white;padding-right: 0.2em;padding-left: 0.2em;position: relative;}#sk-container-id-1 div.sk-item {position: relative;z-index: 1;}#sk-container-id-1 div.sk-parallel {display: flex;align-items: stretch;justify-content: center;background-color: white;position: relative;}#sk-container-id-1 div.sk-item::before, #sk-container-id-1 div.sk-parallel-item::before {content: \"\";position: absolute;border-left: 1px solid gray;box-sizing: border-box;top: 0;bottom: 0;left: 50%;z-index: -1;}#sk-container-id-1 div.sk-parallel-item {display: flex;flex-direction: column;z-index: 1;position: relative;background-color: white;}#sk-container-id-1 div.sk-parallel-item:first-child::after {align-self: flex-end;width: 50%;}#sk-container-id-1 div.sk-parallel-item:last-child::after {align-self: flex-start;width: 50%;}#sk-container-id-1 div.sk-parallel-item:only-child::after {width: 0;}#sk-container-id-1 div.sk-dashed-wrapped {border: 1px dashed gray;margin: 0 0.4em 0.5em 0.4em;box-sizing: border-box;padding-bottom: 0.4em;background-color: white;}#sk-container-id-1 div.sk-label label {font-family: monospace;font-weight: bold;display: inline-block;line-height: 1.2em;}#sk-container-id-1 div.sk-label-container {text-align: center;}#sk-container-id-1 div.sk-container {/* jupyter's `normalize.less` sets `[hidden] { display: none; }` but bootstrap.min.css set `[hidden] { display: none !important; }` so we also need the `!important` here to be able to override the default hidden behavior on the sphinx rendered scikit-learn.org. See: https://github.com/scikit-learn/scikit-learn/issues/21755 */display: inline-block !important;position: relative;}#sk-container-id-1 div.sk-text-repr-fallback {display: none;}</style><div id=\"sk-container-id-1\" class=\"sk-top-container\"><div class=\"sk-text-repr-fallback\"><pre>Pipeline(steps=[(&#x27;rare_encoder&#x27;,\n                 RareLabelEncoder(n_categories=4,\n                                  variables=[&#x27;Type&#x27;, &#x27;Region&#x27;])),\n                (&#x27;ordinal_encoder&#x27;,\n                 OrdinalEncoder(unseen=&#x27;encode&#x27;,\n                                variables=[&#x27;Winery&#x27;, &#x27;Sub Region&#x27;,\n                                           &#x27;Main Variety&#x27;])),\n                (&#x27;encoder_rare_label&#x27;,\n                 OneHotEncoder(drop_last=True,\n                               variables=[&#x27;Region&#x27;, &#x27;Type&#x27;, &#x27;Variety Class&#x27;])),\n                (&#x27;minmax_scaler&#x27;, MinMaxScaler())])</pre><b>In a Jupyter environment, please rerun this cell to show the HTML representation or trust the notebook. <br />On GitHub, the HTML representation is unable to render, please try loading this page with nbviewer.org.</b></div><div class=\"sk-container\" hidden><div class=\"sk-item sk-dashed-wrapped\"><div class=\"sk-label-container\"><div class=\"sk-label sk-toggleable\"><input class=\"sk-toggleable__control sk-hidden--visually\" id=\"sk-estimator-id-1\" type=\"checkbox\" ><label for=\"sk-estimator-id-1\" class=\"sk-toggleable__label sk-toggleable__label-arrow\">Pipeline</label><div class=\"sk-toggleable__content\"><pre>Pipeline(steps=[(&#x27;rare_encoder&#x27;,\n                 RareLabelEncoder(n_categories=4,\n                                  variables=[&#x27;Type&#x27;, &#x27;Region&#x27;])),\n                (&#x27;ordinal_encoder&#x27;,\n                 OrdinalEncoder(unseen=&#x27;encode&#x27;,\n                                variables=[&#x27;Winery&#x27;, &#x27;Sub Region&#x27;,\n                                           &#x27;Main Variety&#x27;])),\n                (&#x27;encoder_rare_label&#x27;,\n                 OneHotEncoder(drop_last=True,\n                               variables=[&#x27;Region&#x27;, &#x27;Type&#x27;, &#x27;Variety Class&#x27;])),\n                (&#x27;minmax_scaler&#x27;, MinMaxScaler())])</pre></div></div></div><div class=\"sk-serial\"><div class=\"sk-item\"><div class=\"sk-estimator sk-toggleable\"><input class=\"sk-toggleable__control sk-hidden--visually\" id=\"sk-estimator-id-2\" type=\"checkbox\" ><label for=\"sk-estimator-id-2\" class=\"sk-toggleable__label sk-toggleable__label-arrow\">RareLabelEncoder</label><div class=\"sk-toggleable__content\"><pre>RareLabelEncoder(n_categories=4, variables=[&#x27;Type&#x27;, &#x27;Region&#x27;])</pre></div></div></div><div class=\"sk-item\"><div class=\"sk-estimator sk-toggleable\"><input class=\"sk-toggleable__control sk-hidden--visually\" id=\"sk-estimator-id-3\" type=\"checkbox\" ><label for=\"sk-estimator-id-3\" class=\"sk-toggleable__label sk-toggleable__label-arrow\">OrdinalEncoder</label><div class=\"sk-toggleable__content\"><pre>OrdinalEncoder(unseen=&#x27;encode&#x27;,\n               variables=[&#x27;Winery&#x27;, &#x27;Sub Region&#x27;, &#x27;Main Variety&#x27;])</pre></div></div></div><div class=\"sk-item\"><div class=\"sk-estimator sk-toggleable\"><input class=\"sk-toggleable__control sk-hidden--visually\" id=\"sk-estimator-id-4\" type=\"checkbox\" ><label for=\"sk-estimator-id-4\" class=\"sk-toggleable__label sk-toggleable__label-arrow\">OneHotEncoder</label><div class=\"sk-toggleable__content\"><pre>OneHotEncoder(drop_last=True, variables=[&#x27;Region&#x27;, &#x27;Type&#x27;, &#x27;Variety Class&#x27;])</pre></div></div></div><div class=\"sk-item\"><div class=\"sk-estimator sk-toggleable\"><input class=\"sk-toggleable__control sk-hidden--visually\" id=\"sk-estimator-id-5\" type=\"checkbox\" ><label for=\"sk-estimator-id-5\" class=\"sk-toggleable__label sk-toggleable__label-arrow\">MinMaxScaler</label><div class=\"sk-toggleable__content\"><pre>MinMaxScaler()</pre></div></div></div></div></div></div></div>"
     },
     "execution_count": 20,
     "metadata": {},
     "output_type": "execute_result"
    }
   ],
   "source": [
    "spain_pipe.fit(X_train,y_train)"
   ],
   "metadata": {
    "collapsed": false
   }
  },
  {
   "cell_type": "code",
   "execution_count": 21,
   "outputs": [
    {
     "data": {
      "text/plain": "array([[0.92583873, 0.8989899 , 0.27586207, ..., 1.        , 0.        ,\n        1.        ],\n       [0.28781636, 0.22222222, 0.65517241, ..., 1.        , 0.        ,\n        0.        ],\n       [0.57445556, 0.82828283, 0.51724138, ..., 1.        , 0.        ,\n        0.        ],\n       ...,\n       [0.39670394, 0.51515152, 0.55172414, ..., 1.        , 0.        ,\n        0.        ],\n       [0.6592113 , 0.60606061, 0.62068966, ..., 1.        , 0.        ,\n        1.        ],\n       [0.91112419, 0.82828283, 0.34482759, ..., 1.        , 0.        ,\n        0.        ]])"
     },
     "execution_count": 21,
     "metadata": {},
     "output_type": "execute_result"
    }
   ],
   "source": [
    "X_train_enc = spain_pipe.transform(X_train)\n",
    "X_test_enc = spain_pipe.transform(X_test)\n",
    "\n",
    "X_train_enc"
   ],
   "metadata": {
    "collapsed": false
   }
  },
  {
   "cell_type": "markdown",
   "source": [
    "## Modelling"
   ],
   "metadata": {
    "collapsed": false
   }
  },
  {
   "cell_type": "code",
   "execution_count": 22,
   "outputs": [
    {
     "name": "stderr",
     "output_type": "stream",
     "text": [
      "/Users/gleb/opt/anaconda3/lib/python3.9/site-packages/sklearn/neural_network/_multilayer_perceptron.py:686: ConvergenceWarning: Stochastic Optimizer: Maximum iterations (200) reached and the optimization hasn't converged yet.\n",
      "  warnings.warn(\n"
     ]
    },
    {
     "name": "stdout",
     "output_type": "stream",
     "text": [
      "                            Model  R-squared  Adjusted R-squared       RMSE\n",
      "0           DecisionTreeRegressor   0.154732            0.152464  13.378869\n",
      "1              ExtraTreeRegressor   0.181476            0.179280  13.165512\n",
      "2             ExtraTreesRegressor   0.519029            0.517739  10.092098\n",
      "3       GradientBoostingRegressor   0.530261            0.529001   9.973565\n",
      "4   HistGradientBoostingRegressor   0.558639            0.557455   9.667610\n",
      "5           RandomForestRegressor   0.534436            0.533187   9.929143\n",
      "6                BaggingRegressor   0.504076            0.502745  10.247781\n",
      "7                LinearRegression   0.397163            0.395546  11.298529\n",
      "8                    MLPRegressor   0.514780            0.513478  10.136581\n",
      "9               AdaBoostRegressor   0.315443            0.313606  12.040011\n",
      "10                  LGBMRegressor   0.554737            0.553542   9.710248\n"
     ]
    }
   ],
   "source": [
    "# define the models\n",
    "models = {\n",
    "    'DecisionTreeRegressor': DecisionTreeRegressor(),\n",
    "    'ExtraTreeRegressor': ExtraTreeRegressor(),\n",
    "    'ExtraTreesRegressor': ExtraTreesRegressor(),\n",
    "    'GradientBoostingRegressor': GradientBoostingRegressor(),\n",
    "    'HistGradientBoostingRegressor': HistGradientBoostingRegressor(),\n",
    "    'RandomForestRegressor': RandomForestRegressor(),\n",
    "    'BaggingRegressor': BaggingRegressor(),\n",
    "    'LinearRegression': LinearRegression(),\n",
    "    'MLPRegressor': MLPRegressor(),\n",
    "    'AdaBoostRegressor': AdaBoostRegressor(),\n",
    "    'LGBMRegressor': LGBMRegressor()\n",
    "}\n",
    "\n",
    "# fit the models and make predictions on the test set\n",
    "results = []\n",
    "for name, model in models.items():\n",
    "    model.fit(X_train_enc, y_train)\n",
    "    y_pred = model.predict(X_test_enc)\n",
    "    r2 = r2_score(y_test, y_pred)\n",
    "    adj_r2 = 1 - (1 - r2) * (len(y_test) - 1) / (len(y_test) - X_test.shape[1] - 1)\n",
    "    rmse = np.sqrt(mean_squared_error(y_test, y_pred))\n",
    "    results.append((name, r2, adj_r2, rmse))\n",
    "\n",
    "# print the results\n",
    "results_df = pd.DataFrame(results, columns=['Model', 'R-squared', 'Adjusted R-squared', 'RMSE'])\n",
    "print(results_df)"
   ],
   "metadata": {
    "collapsed": false
   }
  },
  {
   "cell_type": "markdown",
   "source": [
    "## HistGradientBoostingRegressor"
   ],
   "metadata": {
    "collapsed": false
   }
  },
  {
   "cell_type": "code",
   "execution_count": 55,
   "outputs": [],
   "source": [
    "param_grid = {\n",
    "    'learning_rate': [0.1, 0.01, 0.001],\n",
    "    'max_iter': [100, 200, 500],\n",
    "    'max_depth': [3, 5, 7],\n",
    "    'min_samples_leaf': [1, 5, 10],\n",
    "    'max_leaf_nodes': [None, 10, 50],\n",
    "    'l2_regularization': [0, 0.1, 1]\n",
    "}"
   ],
   "metadata": {
    "collapsed": false
   }
  },
  {
   "cell_type": "code",
   "execution_count": 56,
   "outputs": [],
   "source": [
    "hgb = HistGradientBoostingRegressor()\n",
    "grid_search = GridSearchCV(hgb, param_grid=param_grid, cv=5, n_jobs=-1)"
   ],
   "metadata": {
    "collapsed": false
   }
  },
  {
   "cell_type": "code",
   "execution_count": 57,
   "outputs": [
    {
     "data": {
      "text/plain": "GridSearchCV(cv=5, estimator=HistGradientBoostingRegressor(), n_jobs=-1,\n             param_grid={'l2_regularization': [0, 0.1, 1],\n                         'learning_rate': [0.1, 0.01, 0.001],\n                         'max_depth': [3, 5, 7], 'max_iter': [100, 200, 500],\n                         'max_leaf_nodes': [None, 10, 50],\n                         'min_samples_leaf': [1, 5, 10]})",
      "text/html": "<style>#sk-container-id-8 {color: black;background-color: white;}#sk-container-id-8 pre{padding: 0;}#sk-container-id-8 div.sk-toggleable {background-color: white;}#sk-container-id-8 label.sk-toggleable__label {cursor: pointer;display: block;width: 100%;margin-bottom: 0;padding: 0.3em;box-sizing: border-box;text-align: center;}#sk-container-id-8 label.sk-toggleable__label-arrow:before {content: \"▸\";float: left;margin-right: 0.25em;color: #696969;}#sk-container-id-8 label.sk-toggleable__label-arrow:hover:before {color: black;}#sk-container-id-8 div.sk-estimator:hover label.sk-toggleable__label-arrow:before {color: black;}#sk-container-id-8 div.sk-toggleable__content {max-height: 0;max-width: 0;overflow: hidden;text-align: left;background-color: #f0f8ff;}#sk-container-id-8 div.sk-toggleable__content pre {margin: 0.2em;color: black;border-radius: 0.25em;background-color: #f0f8ff;}#sk-container-id-8 input.sk-toggleable__control:checked~div.sk-toggleable__content {max-height: 200px;max-width: 100%;overflow: auto;}#sk-container-id-8 input.sk-toggleable__control:checked~label.sk-toggleable__label-arrow:before {content: \"▾\";}#sk-container-id-8 div.sk-estimator input.sk-toggleable__control:checked~label.sk-toggleable__label {background-color: #d4ebff;}#sk-container-id-8 div.sk-label input.sk-toggleable__control:checked~label.sk-toggleable__label {background-color: #d4ebff;}#sk-container-id-8 input.sk-hidden--visually {border: 0;clip: rect(1px 1px 1px 1px);clip: rect(1px, 1px, 1px, 1px);height: 1px;margin: -1px;overflow: hidden;padding: 0;position: absolute;width: 1px;}#sk-container-id-8 div.sk-estimator {font-family: monospace;background-color: #f0f8ff;border: 1px dotted black;border-radius: 0.25em;box-sizing: border-box;margin-bottom: 0.5em;}#sk-container-id-8 div.sk-estimator:hover {background-color: #d4ebff;}#sk-container-id-8 div.sk-parallel-item::after {content: \"\";width: 100%;border-bottom: 1px solid gray;flex-grow: 1;}#sk-container-id-8 div.sk-label:hover label.sk-toggleable__label {background-color: #d4ebff;}#sk-container-id-8 div.sk-serial::before {content: \"\";position: absolute;border-left: 1px solid gray;box-sizing: border-box;top: 0;bottom: 0;left: 50%;z-index: 0;}#sk-container-id-8 div.sk-serial {display: flex;flex-direction: column;align-items: center;background-color: white;padding-right: 0.2em;padding-left: 0.2em;position: relative;}#sk-container-id-8 div.sk-item {position: relative;z-index: 1;}#sk-container-id-8 div.sk-parallel {display: flex;align-items: stretch;justify-content: center;background-color: white;position: relative;}#sk-container-id-8 div.sk-item::before, #sk-container-id-8 div.sk-parallel-item::before {content: \"\";position: absolute;border-left: 1px solid gray;box-sizing: border-box;top: 0;bottom: 0;left: 50%;z-index: -1;}#sk-container-id-8 div.sk-parallel-item {display: flex;flex-direction: column;z-index: 1;position: relative;background-color: white;}#sk-container-id-8 div.sk-parallel-item:first-child::after {align-self: flex-end;width: 50%;}#sk-container-id-8 div.sk-parallel-item:last-child::after {align-self: flex-start;width: 50%;}#sk-container-id-8 div.sk-parallel-item:only-child::after {width: 0;}#sk-container-id-8 div.sk-dashed-wrapped {border: 1px dashed gray;margin: 0 0.4em 0.5em 0.4em;box-sizing: border-box;padding-bottom: 0.4em;background-color: white;}#sk-container-id-8 div.sk-label label {font-family: monospace;font-weight: bold;display: inline-block;line-height: 1.2em;}#sk-container-id-8 div.sk-label-container {text-align: center;}#sk-container-id-8 div.sk-container {/* jupyter's `normalize.less` sets `[hidden] { display: none; }` but bootstrap.min.css set `[hidden] { display: none !important; }` so we also need the `!important` here to be able to override the default hidden behavior on the sphinx rendered scikit-learn.org. See: https://github.com/scikit-learn/scikit-learn/issues/21755 */display: inline-block !important;position: relative;}#sk-container-id-8 div.sk-text-repr-fallback {display: none;}</style><div id=\"sk-container-id-8\" class=\"sk-top-container\"><div class=\"sk-text-repr-fallback\"><pre>GridSearchCV(cv=5, estimator=HistGradientBoostingRegressor(), n_jobs=-1,\n             param_grid={&#x27;l2_regularization&#x27;: [0, 0.1, 1],\n                         &#x27;learning_rate&#x27;: [0.1, 0.01, 0.001],\n                         &#x27;max_depth&#x27;: [3, 5, 7], &#x27;max_iter&#x27;: [100, 200, 500],\n                         &#x27;max_leaf_nodes&#x27;: [None, 10, 50],\n                         &#x27;min_samples_leaf&#x27;: [1, 5, 10]})</pre><b>In a Jupyter environment, please rerun this cell to show the HTML representation or trust the notebook. <br />On GitHub, the HTML representation is unable to render, please try loading this page with nbviewer.org.</b></div><div class=\"sk-container\" hidden><div class=\"sk-item sk-dashed-wrapped\"><div class=\"sk-label-container\"><div class=\"sk-label sk-toggleable\"><input class=\"sk-toggleable__control sk-hidden--visually\" id=\"sk-estimator-id-18\" type=\"checkbox\" ><label for=\"sk-estimator-id-18\" class=\"sk-toggleable__label sk-toggleable__label-arrow\">GridSearchCV</label><div class=\"sk-toggleable__content\"><pre>GridSearchCV(cv=5, estimator=HistGradientBoostingRegressor(), n_jobs=-1,\n             param_grid={&#x27;l2_regularization&#x27;: [0, 0.1, 1],\n                         &#x27;learning_rate&#x27;: [0.1, 0.01, 0.001],\n                         &#x27;max_depth&#x27;: [3, 5, 7], &#x27;max_iter&#x27;: [100, 200, 500],\n                         &#x27;max_leaf_nodes&#x27;: [None, 10, 50],\n                         &#x27;min_samples_leaf&#x27;: [1, 5, 10]})</pre></div></div></div><div class=\"sk-parallel\"><div class=\"sk-parallel-item\"><div class=\"sk-item\"><div class=\"sk-label-container\"><div class=\"sk-label sk-toggleable\"><input class=\"sk-toggleable__control sk-hidden--visually\" id=\"sk-estimator-id-19\" type=\"checkbox\" ><label for=\"sk-estimator-id-19\" class=\"sk-toggleable__label sk-toggleable__label-arrow\">estimator: HistGradientBoostingRegressor</label><div class=\"sk-toggleable__content\"><pre>HistGradientBoostingRegressor()</pre></div></div></div><div class=\"sk-serial\"><div class=\"sk-item\"><div class=\"sk-estimator sk-toggleable\"><input class=\"sk-toggleable__control sk-hidden--visually\" id=\"sk-estimator-id-20\" type=\"checkbox\" ><label for=\"sk-estimator-id-20\" class=\"sk-toggleable__label sk-toggleable__label-arrow\">HistGradientBoostingRegressor</label><div class=\"sk-toggleable__content\"><pre>HistGradientBoostingRegressor()</pre></div></div></div></div></div></div></div></div></div></div>"
     },
     "execution_count": 57,
     "metadata": {},
     "output_type": "execute_result"
    }
   ],
   "source": [
    "grid_search.fit(X_train_enc, y_train)"
   ],
   "metadata": {
    "collapsed": false
   }
  },
  {
   "cell_type": "code",
   "execution_count": 58,
   "outputs": [
    {
     "name": "stdout",
     "output_type": "stream",
     "text": [
      "{'l2_regularization': 0.1, 'learning_rate': 0.1, 'max_depth': 7, 'max_iter': 100, 'max_leaf_nodes': None, 'min_samples_leaf': 10}\n",
      "0.5963102119217577\n"
     ]
    }
   ],
   "source": [
    "print(grid_search.best_params_)\n",
    "print(grid_search.best_score_)"
   ],
   "metadata": {
    "collapsed": false
   }
  },
  {
   "cell_type": "code",
   "execution_count": 59,
   "outputs": [
    {
     "data": {
      "text/plain": "HistGradientBoostingRegressor(l2_regularization=0.1, max_depth=7,\n                              max_leaf_nodes=None, min_samples_leaf=10)",
      "text/html": "<style>#sk-container-id-9 {color: black;background-color: white;}#sk-container-id-9 pre{padding: 0;}#sk-container-id-9 div.sk-toggleable {background-color: white;}#sk-container-id-9 label.sk-toggleable__label {cursor: pointer;display: block;width: 100%;margin-bottom: 0;padding: 0.3em;box-sizing: border-box;text-align: center;}#sk-container-id-9 label.sk-toggleable__label-arrow:before {content: \"▸\";float: left;margin-right: 0.25em;color: #696969;}#sk-container-id-9 label.sk-toggleable__label-arrow:hover:before {color: black;}#sk-container-id-9 div.sk-estimator:hover label.sk-toggleable__label-arrow:before {color: black;}#sk-container-id-9 div.sk-toggleable__content {max-height: 0;max-width: 0;overflow: hidden;text-align: left;background-color: #f0f8ff;}#sk-container-id-9 div.sk-toggleable__content pre {margin: 0.2em;color: black;border-radius: 0.25em;background-color: #f0f8ff;}#sk-container-id-9 input.sk-toggleable__control:checked~div.sk-toggleable__content {max-height: 200px;max-width: 100%;overflow: auto;}#sk-container-id-9 input.sk-toggleable__control:checked~label.sk-toggleable__label-arrow:before {content: \"▾\";}#sk-container-id-9 div.sk-estimator input.sk-toggleable__control:checked~label.sk-toggleable__label {background-color: #d4ebff;}#sk-container-id-9 div.sk-label input.sk-toggleable__control:checked~label.sk-toggleable__label {background-color: #d4ebff;}#sk-container-id-9 input.sk-hidden--visually {border: 0;clip: rect(1px 1px 1px 1px);clip: rect(1px, 1px, 1px, 1px);height: 1px;margin: -1px;overflow: hidden;padding: 0;position: absolute;width: 1px;}#sk-container-id-9 div.sk-estimator {font-family: monospace;background-color: #f0f8ff;border: 1px dotted black;border-radius: 0.25em;box-sizing: border-box;margin-bottom: 0.5em;}#sk-container-id-9 div.sk-estimator:hover {background-color: #d4ebff;}#sk-container-id-9 div.sk-parallel-item::after {content: \"\";width: 100%;border-bottom: 1px solid gray;flex-grow: 1;}#sk-container-id-9 div.sk-label:hover label.sk-toggleable__label {background-color: #d4ebff;}#sk-container-id-9 div.sk-serial::before {content: \"\";position: absolute;border-left: 1px solid gray;box-sizing: border-box;top: 0;bottom: 0;left: 50%;z-index: 0;}#sk-container-id-9 div.sk-serial {display: flex;flex-direction: column;align-items: center;background-color: white;padding-right: 0.2em;padding-left: 0.2em;position: relative;}#sk-container-id-9 div.sk-item {position: relative;z-index: 1;}#sk-container-id-9 div.sk-parallel {display: flex;align-items: stretch;justify-content: center;background-color: white;position: relative;}#sk-container-id-9 div.sk-item::before, #sk-container-id-9 div.sk-parallel-item::before {content: \"\";position: absolute;border-left: 1px solid gray;box-sizing: border-box;top: 0;bottom: 0;left: 50%;z-index: -1;}#sk-container-id-9 div.sk-parallel-item {display: flex;flex-direction: column;z-index: 1;position: relative;background-color: white;}#sk-container-id-9 div.sk-parallel-item:first-child::after {align-self: flex-end;width: 50%;}#sk-container-id-9 div.sk-parallel-item:last-child::after {align-self: flex-start;width: 50%;}#sk-container-id-9 div.sk-parallel-item:only-child::after {width: 0;}#sk-container-id-9 div.sk-dashed-wrapped {border: 1px dashed gray;margin: 0 0.4em 0.5em 0.4em;box-sizing: border-box;padding-bottom: 0.4em;background-color: white;}#sk-container-id-9 div.sk-label label {font-family: monospace;font-weight: bold;display: inline-block;line-height: 1.2em;}#sk-container-id-9 div.sk-label-container {text-align: center;}#sk-container-id-9 div.sk-container {/* jupyter's `normalize.less` sets `[hidden] { display: none; }` but bootstrap.min.css set `[hidden] { display: none !important; }` so we also need the `!important` here to be able to override the default hidden behavior on the sphinx rendered scikit-learn.org. See: https://github.com/scikit-learn/scikit-learn/issues/21755 */display: inline-block !important;position: relative;}#sk-container-id-9 div.sk-text-repr-fallback {display: none;}</style><div id=\"sk-container-id-9\" class=\"sk-top-container\"><div class=\"sk-text-repr-fallback\"><pre>HistGradientBoostingRegressor(l2_regularization=0.1, max_depth=7,\n                              max_leaf_nodes=None, min_samples_leaf=10)</pre><b>In a Jupyter environment, please rerun this cell to show the HTML representation or trust the notebook. <br />On GitHub, the HTML representation is unable to render, please try loading this page with nbviewer.org.</b></div><div class=\"sk-container\" hidden><div class=\"sk-item\"><div class=\"sk-estimator sk-toggleable\"><input class=\"sk-toggleable__control sk-hidden--visually\" id=\"sk-estimator-id-21\" type=\"checkbox\" checked><label for=\"sk-estimator-id-21\" class=\"sk-toggleable__label sk-toggleable__label-arrow\">HistGradientBoostingRegressor</label><div class=\"sk-toggleable__content\"><pre>HistGradientBoostingRegressor(l2_regularization=0.1, max_depth=7,\n                              max_leaf_nodes=None, min_samples_leaf=10)</pre></div></div></div></div></div>"
     },
     "execution_count": 59,
     "metadata": {},
     "output_type": "execute_result"
    }
   ],
   "source": [
    "# Train HGB regressor using best hyperparameters\n",
    "best_params = grid_search.best_params_\n",
    "hgb_best = HistGradientBoostingRegressor(**best_params)\n",
    "hgb_best.fit(X_train_enc, y_train)"
   ],
   "metadata": {
    "collapsed": false
   }
  },
  {
   "cell_type": "code",
   "execution_count": 60,
   "outputs": [
    {
     "name": "stdout",
     "output_type": "stream",
     "text": [
      "0.7370699987994545\n",
      "0.5498136572334166\n"
     ]
    }
   ],
   "source": [
    "print(hgb_best.score(X_train_enc, y_train))\n",
    "print(hgb_best.score(X_test_enc, y_test))"
   ],
   "metadata": {
    "collapsed": false
   }
  },
  {
   "cell_type": "markdown",
   "source": [
    "## LGBM Regressor"
   ],
   "metadata": {
    "collapsed": false
   }
  },
  {
   "cell_type": "code",
   "execution_count": 29,
   "outputs": [],
   "source": [
    "param_grid = {\n",
    "    'num_leaves': [10, 20, 30],\n",
    "    'learning_rate': [0.01, 0.1],\n",
    "    'n_estimators': [50, 100, 200],\n",
    "    'reg_alpha': [0, 0.1, 0.5],\n",
    "    'reg_lambda': [0, 0.1, 0.5]\n",
    "}"
   ],
   "metadata": {
    "collapsed": false
   }
  },
  {
   "cell_type": "code",
   "execution_count": 30,
   "outputs": [],
   "source": [
    "lgb_model = LGBMRegressor()"
   ],
   "metadata": {
    "collapsed": false
   }
  },
  {
   "cell_type": "code",
   "execution_count": 31,
   "outputs": [
    {
     "data": {
      "text/plain": "GridSearchCV(cv=5, estimator=LGBMRegressor(),\n             param_grid={'learning_rate': [0.01, 0.1],\n                         'n_estimators': [50, 100, 200],\n                         'num_leaves': [10, 20, 30], 'reg_alpha': [0, 0.1, 0.5],\n                         'reg_lambda': [0, 0.1, 0.5]})",
      "text/html": "<style>#sk-container-id-4 {color: black;background-color: white;}#sk-container-id-4 pre{padding: 0;}#sk-container-id-4 div.sk-toggleable {background-color: white;}#sk-container-id-4 label.sk-toggleable__label {cursor: pointer;display: block;width: 100%;margin-bottom: 0;padding: 0.3em;box-sizing: border-box;text-align: center;}#sk-container-id-4 label.sk-toggleable__label-arrow:before {content: \"▸\";float: left;margin-right: 0.25em;color: #696969;}#sk-container-id-4 label.sk-toggleable__label-arrow:hover:before {color: black;}#sk-container-id-4 div.sk-estimator:hover label.sk-toggleable__label-arrow:before {color: black;}#sk-container-id-4 div.sk-toggleable__content {max-height: 0;max-width: 0;overflow: hidden;text-align: left;background-color: #f0f8ff;}#sk-container-id-4 div.sk-toggleable__content pre {margin: 0.2em;color: black;border-radius: 0.25em;background-color: #f0f8ff;}#sk-container-id-4 input.sk-toggleable__control:checked~div.sk-toggleable__content {max-height: 200px;max-width: 100%;overflow: auto;}#sk-container-id-4 input.sk-toggleable__control:checked~label.sk-toggleable__label-arrow:before {content: \"▾\";}#sk-container-id-4 div.sk-estimator input.sk-toggleable__control:checked~label.sk-toggleable__label {background-color: #d4ebff;}#sk-container-id-4 div.sk-label input.sk-toggleable__control:checked~label.sk-toggleable__label {background-color: #d4ebff;}#sk-container-id-4 input.sk-hidden--visually {border: 0;clip: rect(1px 1px 1px 1px);clip: rect(1px, 1px, 1px, 1px);height: 1px;margin: -1px;overflow: hidden;padding: 0;position: absolute;width: 1px;}#sk-container-id-4 div.sk-estimator {font-family: monospace;background-color: #f0f8ff;border: 1px dotted black;border-radius: 0.25em;box-sizing: border-box;margin-bottom: 0.5em;}#sk-container-id-4 div.sk-estimator:hover {background-color: #d4ebff;}#sk-container-id-4 div.sk-parallel-item::after {content: \"\";width: 100%;border-bottom: 1px solid gray;flex-grow: 1;}#sk-container-id-4 div.sk-label:hover label.sk-toggleable__label {background-color: #d4ebff;}#sk-container-id-4 div.sk-serial::before {content: \"\";position: absolute;border-left: 1px solid gray;box-sizing: border-box;top: 0;bottom: 0;left: 50%;z-index: 0;}#sk-container-id-4 div.sk-serial {display: flex;flex-direction: column;align-items: center;background-color: white;padding-right: 0.2em;padding-left: 0.2em;position: relative;}#sk-container-id-4 div.sk-item {position: relative;z-index: 1;}#sk-container-id-4 div.sk-parallel {display: flex;align-items: stretch;justify-content: center;background-color: white;position: relative;}#sk-container-id-4 div.sk-item::before, #sk-container-id-4 div.sk-parallel-item::before {content: \"\";position: absolute;border-left: 1px solid gray;box-sizing: border-box;top: 0;bottom: 0;left: 50%;z-index: -1;}#sk-container-id-4 div.sk-parallel-item {display: flex;flex-direction: column;z-index: 1;position: relative;background-color: white;}#sk-container-id-4 div.sk-parallel-item:first-child::after {align-self: flex-end;width: 50%;}#sk-container-id-4 div.sk-parallel-item:last-child::after {align-self: flex-start;width: 50%;}#sk-container-id-4 div.sk-parallel-item:only-child::after {width: 0;}#sk-container-id-4 div.sk-dashed-wrapped {border: 1px dashed gray;margin: 0 0.4em 0.5em 0.4em;box-sizing: border-box;padding-bottom: 0.4em;background-color: white;}#sk-container-id-4 div.sk-label label {font-family: monospace;font-weight: bold;display: inline-block;line-height: 1.2em;}#sk-container-id-4 div.sk-label-container {text-align: center;}#sk-container-id-4 div.sk-container {/* jupyter's `normalize.less` sets `[hidden] { display: none; }` but bootstrap.min.css set `[hidden] { display: none !important; }` so we also need the `!important` here to be able to override the default hidden behavior on the sphinx rendered scikit-learn.org. See: https://github.com/scikit-learn/scikit-learn/issues/21755 */display: inline-block !important;position: relative;}#sk-container-id-4 div.sk-text-repr-fallback {display: none;}</style><div id=\"sk-container-id-4\" class=\"sk-top-container\"><div class=\"sk-text-repr-fallback\"><pre>GridSearchCV(cv=5, estimator=LGBMRegressor(),\n             param_grid={&#x27;learning_rate&#x27;: [0.01, 0.1],\n                         &#x27;n_estimators&#x27;: [50, 100, 200],\n                         &#x27;num_leaves&#x27;: [10, 20, 30], &#x27;reg_alpha&#x27;: [0, 0.1, 0.5],\n                         &#x27;reg_lambda&#x27;: [0, 0.1, 0.5]})</pre><b>In a Jupyter environment, please rerun this cell to show the HTML representation or trust the notebook. <br />On GitHub, the HTML representation is unable to render, please try loading this page with nbviewer.org.</b></div><div class=\"sk-container\" hidden><div class=\"sk-item sk-dashed-wrapped\"><div class=\"sk-label-container\"><div class=\"sk-label sk-toggleable\"><input class=\"sk-toggleable__control sk-hidden--visually\" id=\"sk-estimator-id-10\" type=\"checkbox\" ><label for=\"sk-estimator-id-10\" class=\"sk-toggleable__label sk-toggleable__label-arrow\">GridSearchCV</label><div class=\"sk-toggleable__content\"><pre>GridSearchCV(cv=5, estimator=LGBMRegressor(),\n             param_grid={&#x27;learning_rate&#x27;: [0.01, 0.1],\n                         &#x27;n_estimators&#x27;: [50, 100, 200],\n                         &#x27;num_leaves&#x27;: [10, 20, 30], &#x27;reg_alpha&#x27;: [0, 0.1, 0.5],\n                         &#x27;reg_lambda&#x27;: [0, 0.1, 0.5]})</pre></div></div></div><div class=\"sk-parallel\"><div class=\"sk-parallel-item\"><div class=\"sk-item\"><div class=\"sk-label-container\"><div class=\"sk-label sk-toggleable\"><input class=\"sk-toggleable__control sk-hidden--visually\" id=\"sk-estimator-id-11\" type=\"checkbox\" ><label for=\"sk-estimator-id-11\" class=\"sk-toggleable__label sk-toggleable__label-arrow\">estimator: LGBMRegressor</label><div class=\"sk-toggleable__content\"><pre>LGBMRegressor()</pre></div></div></div><div class=\"sk-serial\"><div class=\"sk-item\"><div class=\"sk-estimator sk-toggleable\"><input class=\"sk-toggleable__control sk-hidden--visually\" id=\"sk-estimator-id-12\" type=\"checkbox\" ><label for=\"sk-estimator-id-12\" class=\"sk-toggleable__label sk-toggleable__label-arrow\">LGBMRegressor</label><div class=\"sk-toggleable__content\"><pre>LGBMRegressor()</pre></div></div></div></div></div></div></div></div></div></div>"
     },
     "execution_count": 31,
     "metadata": {},
     "output_type": "execute_result"
    }
   ],
   "source": [
    "grid_search = GridSearchCV(estimator=lgb_model, param_grid=param_grid, cv=5)\n",
    "grid_search.fit(X_train_enc, y_train)"
   ],
   "metadata": {
    "collapsed": false
   }
  },
  {
   "cell_type": "code",
   "execution_count": 32,
   "outputs": [
    {
     "name": "stdout",
     "output_type": "stream",
     "text": [
      "Best Hyperparameters:  {'learning_rate': 0.1, 'n_estimators': 200, 'num_leaves': 30, 'reg_alpha': 0.5, 'reg_lambda': 0}\n",
      "Best Score:  0.6025396954569258\n"
     ]
    }
   ],
   "source": [
    "print(\"Best Hyperparameters: \", grid_search.best_params_)\n",
    "print(\"Best Score: \", grid_search.best_score_)"
   ],
   "metadata": {
    "collapsed": false
   }
  },
  {
   "cell_type": "code",
   "execution_count": 33,
   "outputs": [
    {
     "data": {
      "text/plain": "LGBMRegressor(n_estimators=200, num_leaves=30, reg_alpha=0.5, reg_lambda=0)",
      "text/html": "<style>#sk-container-id-5 {color: black;background-color: white;}#sk-container-id-5 pre{padding: 0;}#sk-container-id-5 div.sk-toggleable {background-color: white;}#sk-container-id-5 label.sk-toggleable__label {cursor: pointer;display: block;width: 100%;margin-bottom: 0;padding: 0.3em;box-sizing: border-box;text-align: center;}#sk-container-id-5 label.sk-toggleable__label-arrow:before {content: \"▸\";float: left;margin-right: 0.25em;color: #696969;}#sk-container-id-5 label.sk-toggleable__label-arrow:hover:before {color: black;}#sk-container-id-5 div.sk-estimator:hover label.sk-toggleable__label-arrow:before {color: black;}#sk-container-id-5 div.sk-toggleable__content {max-height: 0;max-width: 0;overflow: hidden;text-align: left;background-color: #f0f8ff;}#sk-container-id-5 div.sk-toggleable__content pre {margin: 0.2em;color: black;border-radius: 0.25em;background-color: #f0f8ff;}#sk-container-id-5 input.sk-toggleable__control:checked~div.sk-toggleable__content {max-height: 200px;max-width: 100%;overflow: auto;}#sk-container-id-5 input.sk-toggleable__control:checked~label.sk-toggleable__label-arrow:before {content: \"▾\";}#sk-container-id-5 div.sk-estimator input.sk-toggleable__control:checked~label.sk-toggleable__label {background-color: #d4ebff;}#sk-container-id-5 div.sk-label input.sk-toggleable__control:checked~label.sk-toggleable__label {background-color: #d4ebff;}#sk-container-id-5 input.sk-hidden--visually {border: 0;clip: rect(1px 1px 1px 1px);clip: rect(1px, 1px, 1px, 1px);height: 1px;margin: -1px;overflow: hidden;padding: 0;position: absolute;width: 1px;}#sk-container-id-5 div.sk-estimator {font-family: monospace;background-color: #f0f8ff;border: 1px dotted black;border-radius: 0.25em;box-sizing: border-box;margin-bottom: 0.5em;}#sk-container-id-5 div.sk-estimator:hover {background-color: #d4ebff;}#sk-container-id-5 div.sk-parallel-item::after {content: \"\";width: 100%;border-bottom: 1px solid gray;flex-grow: 1;}#sk-container-id-5 div.sk-label:hover label.sk-toggleable__label {background-color: #d4ebff;}#sk-container-id-5 div.sk-serial::before {content: \"\";position: absolute;border-left: 1px solid gray;box-sizing: border-box;top: 0;bottom: 0;left: 50%;z-index: 0;}#sk-container-id-5 div.sk-serial {display: flex;flex-direction: column;align-items: center;background-color: white;padding-right: 0.2em;padding-left: 0.2em;position: relative;}#sk-container-id-5 div.sk-item {position: relative;z-index: 1;}#sk-container-id-5 div.sk-parallel {display: flex;align-items: stretch;justify-content: center;background-color: white;position: relative;}#sk-container-id-5 div.sk-item::before, #sk-container-id-5 div.sk-parallel-item::before {content: \"\";position: absolute;border-left: 1px solid gray;box-sizing: border-box;top: 0;bottom: 0;left: 50%;z-index: -1;}#sk-container-id-5 div.sk-parallel-item {display: flex;flex-direction: column;z-index: 1;position: relative;background-color: white;}#sk-container-id-5 div.sk-parallel-item:first-child::after {align-self: flex-end;width: 50%;}#sk-container-id-5 div.sk-parallel-item:last-child::after {align-self: flex-start;width: 50%;}#sk-container-id-5 div.sk-parallel-item:only-child::after {width: 0;}#sk-container-id-5 div.sk-dashed-wrapped {border: 1px dashed gray;margin: 0 0.4em 0.5em 0.4em;box-sizing: border-box;padding-bottom: 0.4em;background-color: white;}#sk-container-id-5 div.sk-label label {font-family: monospace;font-weight: bold;display: inline-block;line-height: 1.2em;}#sk-container-id-5 div.sk-label-container {text-align: center;}#sk-container-id-5 div.sk-container {/* jupyter's `normalize.less` sets `[hidden] { display: none; }` but bootstrap.min.css set `[hidden] { display: none !important; }` so we also need the `!important` here to be able to override the default hidden behavior on the sphinx rendered scikit-learn.org. See: https://github.com/scikit-learn/scikit-learn/issues/21755 */display: inline-block !important;position: relative;}#sk-container-id-5 div.sk-text-repr-fallback {display: none;}</style><div id=\"sk-container-id-5\" class=\"sk-top-container\"><div class=\"sk-text-repr-fallback\"><pre>LGBMRegressor(n_estimators=200, num_leaves=30, reg_alpha=0.5, reg_lambda=0)</pre><b>In a Jupyter environment, please rerun this cell to show the HTML representation or trust the notebook. <br />On GitHub, the HTML representation is unable to render, please try loading this page with nbviewer.org.</b></div><div class=\"sk-container\" hidden><div class=\"sk-item\"><div class=\"sk-estimator sk-toggleable\"><input class=\"sk-toggleable__control sk-hidden--visually\" id=\"sk-estimator-id-13\" type=\"checkbox\" checked><label for=\"sk-estimator-id-13\" class=\"sk-toggleable__label sk-toggleable__label-arrow\">LGBMRegressor</label><div class=\"sk-toggleable__content\"><pre>LGBMRegressor(n_estimators=200, num_leaves=30, reg_alpha=0.5, reg_lambda=0)</pre></div></div></div></div></div>"
     },
     "execution_count": 33,
     "metadata": {},
     "output_type": "execute_result"
    }
   ],
   "source": [
    "# Train LGBM regressor using best hyperparameters\n",
    "best_params = grid_search.best_params_\n",
    "lgb_best = LGBMRegressor(**best_params)\n",
    "lgb_best.fit(X_train_enc, y_train)"
   ],
   "metadata": {
    "collapsed": false
   }
  },
  {
   "cell_type": "code",
   "execution_count": 34,
   "outputs": [
    {
     "name": "stdout",
     "output_type": "stream",
     "text": [
      "0.7522756240718298\n",
      "0.5632321685382102\n"
     ]
    }
   ],
   "source": [
    "print(lgb_best.score(X_train_enc, y_train))\n",
    "print(lgb_best.score(X_test_enc, y_test))"
   ],
   "metadata": {
    "collapsed": false
   }
  },
  {
   "cell_type": "code",
   "execution_count": 36,
   "outputs": [
    {
     "data": {
      "text/plain": "<AxesSubplot:>"
     },
     "execution_count": 36,
     "metadata": {},
     "output_type": "execute_result"
    },
    {
     "data": {
      "text/plain": "<Figure size 1200x600 with 1 Axes>",
      "image/png": "[encoded data removed]"
     },
     "metadata": {},
     "output_type": "display_data"
    }
   ],
   "source": [
    "importance = pd.Series(lgb_best.feature_importances_)\n",
    "importance.sort_values(inplace=True, ascending=False)\n",
    "importance.plot.bar(figsize=(12,6))"
   ],
   "metadata": {
    "collapsed": false
   }
  },
  {
   "cell_type": "markdown",
   "source": [
    "## Random Forest Regressor"
   ],
   "metadata": {
    "collapsed": false
   }
  },
  {
   "cell_type": "code",
   "execution_count": 37,
   "outputs": [],
   "source": [
    "# Define the parameter grid\n",
    "param_grid = {\n",
    "    'n_estimators': [50, 100, 200],\n",
    "    'max_depth': [5, 10, 20],\n",
    "    'min_samples_split': [2, 5, 10],\n",
    "    'min_samples_leaf': [1, 2, 4],\n",
    "    'max_features': ['sqrt', 'log2']\n",
    "}"
   ],
   "metadata": {
    "collapsed": false
   }
  },
  {
   "cell_type": "code",
   "execution_count": 38,
   "outputs": [],
   "source": [
    "# Define the random forest regressor\n",
    "rf = RandomForestRegressor()"
   ],
   "metadata": {
    "collapsed": false
   }
  },
  {
   "cell_type": "code",
   "execution_count": 39,
   "outputs": [
    {
     "name": "stderr",
     "output_type": "stream",
     "text": [
      "/Users/gleb/opt/anaconda3/lib/python3.9/site-packages/joblib/externals/loky/process_executor.py:700: UserWarning: A worker stopped while some jobs were given to the executor. This can be caused by a too short worker timeout or by a memory leak.\n",
      "  warnings.warn(\n"
     ]
    },
    {
     "data": {
      "text/plain": "GridSearchCV(cv=5, estimator=RandomForestRegressor(), n_jobs=-1,\n             param_grid={'max_depth': [5, 10, 20],\n                         'max_features': ['sqrt', 'log2'],\n                         'min_samples_leaf': [1, 2, 4],\n                         'min_samples_split': [2, 5, 10],\n                         'n_estimators': [50, 100, 200]})",
      "text/html": "<style>#sk-container-id-6 {color: black;background-color: white;}#sk-container-id-6 pre{padding: 0;}#sk-container-id-6 div.sk-toggleable {background-color: white;}#sk-container-id-6 label.sk-toggleable__label {cursor: pointer;display: block;width: 100%;margin-bottom: 0;padding: 0.3em;box-sizing: border-box;text-align: center;}#sk-container-id-6 label.sk-toggleable__label-arrow:before {content: \"▸\";float: left;margin-right: 0.25em;color: #696969;}#sk-container-id-6 label.sk-toggleable__label-arrow:hover:before {color: black;}#sk-container-id-6 div.sk-estimator:hover label.sk-toggleable__label-arrow:before {color: black;}#sk-container-id-6 div.sk-toggleable__content {max-height: 0;max-width: 0;overflow: hidden;text-align: left;background-color: #f0f8ff;}#sk-container-id-6 div.sk-toggleable__content pre {margin: 0.2em;color: black;border-radius: 0.25em;background-color: #f0f8ff;}#sk-container-id-6 input.sk-toggleable__control:checked~div.sk-toggleable__content {max-height: 200px;max-width: 100%;overflow: auto;}#sk-container-id-6 input.sk-toggleable__control:checked~label.sk-toggleable__label-arrow:before {content: \"▾\";}#sk-container-id-6 div.sk-estimator input.sk-toggleable__control:checked~label.sk-toggleable__label {background-color: #d4ebff;}#sk-container-id-6 div.sk-label input.sk-toggleable__control:checked~label.sk-toggleable__label {background-color: #d4ebff;}#sk-container-id-6 input.sk-hidden--visually {border: 0;clip: rect(1px 1px 1px 1px);clip: rect(1px, 1px, 1px, 1px);height: 1px;margin: -1px;overflow: hidden;padding: 0;position: absolute;width: 1px;}#sk-container-id-6 div.sk-estimator {font-family: monospace;background-color: #f0f8ff;border: 1px dotted black;border-radius: 0.25em;box-sizing: border-box;margin-bottom: 0.5em;}#sk-container-id-6 div.sk-estimator:hover {background-color: #d4ebff;}#sk-container-id-6 div.sk-parallel-item::after {content: \"\";width: 100%;border-bottom: 1px solid gray;flex-grow: 1;}#sk-container-id-6 div.sk-label:hover label.sk-toggleable__label {background-color: #d4ebff;}#sk-container-id-6 div.sk-serial::before {content: \"\";position: absolute;border-left: 1px solid gray;box-sizing: border-box;top: 0;bottom: 0;left: 50%;z-index: 0;}#sk-container-id-6 div.sk-serial {display: flex;flex-direction: column;align-items: center;background-color: white;padding-right: 0.2em;padding-left: 0.2em;position: relative;}#sk-container-id-6 div.sk-item {position: relative;z-index: 1;}#sk-container-id-6 div.sk-parallel {display: flex;align-items: stretch;justify-content: center;background-color: white;position: relative;}#sk-container-id-6 div.sk-item::before, #sk-container-id-6 div.sk-parallel-item::before {content: \"\";position: absolute;border-left: 1px solid gray;box-sizing: border-box;top: 0;bottom: 0;left: 50%;z-index: -1;}#sk-container-id-6 div.sk-parallel-item {display: flex;flex-direction: column;z-index: 1;position: relative;background-color: white;}#sk-container-id-6 div.sk-parallel-item:first-child::after {align-self: flex-end;width: 50%;}#sk-container-id-6 div.sk-parallel-item:last-child::after {align-self: flex-start;width: 50%;}#sk-container-id-6 div.sk-parallel-item:only-child::after {width: 0;}#sk-container-id-6 div.sk-dashed-wrapped {border: 1px dashed gray;margin: 0 0.4em 0.5em 0.4em;box-sizing: border-box;padding-bottom: 0.4em;background-color: white;}#sk-container-id-6 div.sk-label label {font-family: monospace;font-weight: bold;display: inline-block;line-height: 1.2em;}#sk-container-id-6 div.sk-label-container {text-align: center;}#sk-container-id-6 div.sk-container {/* jupyter's `normalize.less` sets `[hidden] { display: none; }` but bootstrap.min.css set `[hidden] { display: none !important; }` so we also need the `!important` here to be able to override the default hidden behavior on the sphinx rendered scikit-learn.org. See: https://github.com/scikit-learn/scikit-learn/issues/21755 */display: inline-block !important;position: relative;}#sk-container-id-6 div.sk-text-repr-fallback {display: none;}</style><div id=\"sk-container-id-6\" class=\"sk-top-container\"><div class=\"sk-text-repr-fallback\"><pre>GridSearchCV(cv=5, estimator=RandomForestRegressor(), n_jobs=-1,\n             param_grid={&#x27;max_depth&#x27;: [5, 10, 20],\n                         &#x27;max_features&#x27;: [&#x27;sqrt&#x27;, &#x27;log2&#x27;],\n                         &#x27;min_samples_leaf&#x27;: [1, 2, 4],\n                         &#x27;min_samples_split&#x27;: [2, 5, 10],\n                         &#x27;n_estimators&#x27;: [50, 100, 200]})</pre><b>In a Jupyter environment, please rerun this cell to show the HTML representation or trust the notebook. <br />On GitHub, the HTML representation is unable to render, please try loading this page with nbviewer.org.</b></div><div class=\"sk-container\" hidden><div class=\"sk-item sk-dashed-wrapped\"><div class=\"sk-label-container\"><div class=\"sk-label sk-toggleable\"><input class=\"sk-toggleable__control sk-hidden--visually\" id=\"sk-estimator-id-14\" type=\"checkbox\" ><label for=\"sk-estimator-id-14\" class=\"sk-toggleable__label sk-toggleable__label-arrow\">GridSearchCV</label><div class=\"sk-toggleable__content\"><pre>GridSearchCV(cv=5, estimator=RandomForestRegressor(), n_jobs=-1,\n             param_grid={&#x27;max_depth&#x27;: [5, 10, 20],\n                         &#x27;max_features&#x27;: [&#x27;sqrt&#x27;, &#x27;log2&#x27;],\n                         &#x27;min_samples_leaf&#x27;: [1, 2, 4],\n                         &#x27;min_samples_split&#x27;: [2, 5, 10],\n                         &#x27;n_estimators&#x27;: [50, 100, 200]})</pre></div></div></div><div class=\"sk-parallel\"><div class=\"sk-parallel-item\"><div class=\"sk-item\"><div class=\"sk-label-container\"><div class=\"sk-label sk-toggleable\"><input class=\"sk-toggleable__control sk-hidden--visually\" id=\"sk-estimator-id-15\" type=\"checkbox\" ><label for=\"sk-estimator-id-15\" class=\"sk-toggleable__label sk-toggleable__label-arrow\">estimator: RandomForestRegressor</label><div class=\"sk-toggleable__content\"><pre>RandomForestRegressor()</pre></div></div></div><div class=\"sk-serial\"><div class=\"sk-item\"><div class=\"sk-estimator sk-toggleable\"><input class=\"sk-toggleable__control sk-hidden--visually\" id=\"sk-estimator-id-16\" type=\"checkbox\" ><label for=\"sk-estimator-id-16\" class=\"sk-toggleable__label sk-toggleable__label-arrow\">RandomForestRegressor</label><div class=\"sk-toggleable__content\"><pre>RandomForestRegressor()</pre></div></div></div></div></div></div></div></div></div></div>"
     },
     "execution_count": 39,
     "metadata": {},
     "output_type": "execute_result"
    }
   ],
   "source": [
    "# Perform the grid search\n",
    "grid_search = GridSearchCV(rf, param_grid=param_grid, cv=5, n_jobs=-1)\n",
    "grid_search.fit(X_train_enc, y_train)"
   ],
   "metadata": {
    "collapsed": false
   }
  },
  {
   "cell_type": "code",
   "execution_count": 40,
   "outputs": [
    {
     "name": "stdout",
     "output_type": "stream",
     "text": [
      "Best Parameters:  {'max_depth': 20, 'max_features': 'sqrt', 'min_samples_leaf': 1, 'min_samples_split': 5, 'n_estimators': 100}\n",
      "Best Score:  0.6040222187367936\n"
     ]
    }
   ],
   "source": [
    "# Output the best parameters and best score\n",
    "print(\"Best Parameters: \", grid_search.best_params_)\n",
    "print(\"Best Score: \", grid_search.best_score_)"
   ],
   "metadata": {
    "collapsed": false
   }
  },
  {
   "cell_type": "code",
   "execution_count": 41,
   "outputs": [
    {
     "data": {
      "text/plain": "RandomForestRegressor(max_depth=20, max_features='sqrt', min_samples_split=5)",
      "text/html": "<style>#sk-container-id-7 {color: black;background-color: white;}#sk-container-id-7 pre{padding: 0;}#sk-container-id-7 div.sk-toggleable {background-color: white;}#sk-container-id-7 label.sk-toggleable__label {cursor: pointer;display: block;width: 100%;margin-bottom: 0;padding: 0.3em;box-sizing: border-box;text-align: center;}#sk-container-id-7 label.sk-toggleable__label-arrow:before {content: \"▸\";float: left;margin-right: 0.25em;color: #696969;}#sk-container-id-7 label.sk-toggleable__label-arrow:hover:before {color: black;}#sk-container-id-7 div.sk-estimator:hover label.sk-toggleable__label-arrow:before {color: black;}#sk-container-id-7 div.sk-toggleable__content {max-height: 0;max-width: 0;overflow: hidden;text-align: left;background-color: #f0f8ff;}#sk-container-id-7 div.sk-toggleable__content pre {margin: 0.2em;color: black;border-radius: 0.25em;background-color: #f0f8ff;}#sk-container-id-7 input.sk-toggleable__control:checked~div.sk-toggleable__content {max-height: 200px;max-width: 100%;overflow: auto;}#sk-container-id-7 input.sk-toggleable__control:checked~label.sk-toggleable__label-arrow:before {content: \"▾\";}#sk-container-id-7 div.sk-estimator input.sk-toggleable__control:checked~label.sk-toggleable__label {background-color: #d4ebff;}#sk-container-id-7 div.sk-label input.sk-toggleable__control:checked~label.sk-toggleable__label {background-color: #d4ebff;}#sk-container-id-7 input.sk-hidden--visually {border: 0;clip: rect(1px 1px 1px 1px);clip: rect(1px, 1px, 1px, 1px);height: 1px;margin: -1px;overflow: hidden;padding: 0;position: absolute;width: 1px;}#sk-container-id-7 div.sk-estimator {font-family: monospace;background-color: #f0f8ff;border: 1px dotted black;border-radius: 0.25em;box-sizing: border-box;margin-bottom: 0.5em;}#sk-container-id-7 div.sk-estimator:hover {background-color: #d4ebff;}#sk-container-id-7 div.sk-parallel-item::after {content: \"\";width: 100%;border-bottom: 1px solid gray;flex-grow: 1;}#sk-container-id-7 div.sk-label:hover label.sk-toggleable__label {background-color: #d4ebff;}#sk-container-id-7 div.sk-serial::before {content: \"\";position: absolute;border-left: 1px solid gray;box-sizing: border-box;top: 0;bottom: 0;left: 50%;z-index: 0;}#sk-container-id-7 div.sk-serial {display: flex;flex-direction: column;align-items: center;background-color: white;padding-right: 0.2em;padding-left: 0.2em;position: relative;}#sk-container-id-7 div.sk-item {position: relative;z-index: 1;}#sk-container-id-7 div.sk-parallel {display: flex;align-items: stretch;justify-content: center;background-color: white;position: relative;}#sk-container-id-7 div.sk-item::before, #sk-container-id-7 div.sk-parallel-item::before {content: \"\";position: absolute;border-left: 1px solid gray;box-sizing: border-box;top: 0;bottom: 0;left: 50%;z-index: -1;}#sk-container-id-7 div.sk-parallel-item {display: flex;flex-direction: column;z-index: 1;position: relative;background-color: white;}#sk-container-id-7 div.sk-parallel-item:first-child::after {align-self: flex-end;width: 50%;}#sk-container-id-7 div.sk-parallel-item:last-child::after {align-self: flex-start;width: 50%;}#sk-container-id-7 div.sk-parallel-item:only-child::after {width: 0;}#sk-container-id-7 div.sk-dashed-wrapped {border: 1px dashed gray;margin: 0 0.4em 0.5em 0.4em;box-sizing: border-box;padding-bottom: 0.4em;background-color: white;}#sk-container-id-7 div.sk-label label {font-family: monospace;font-weight: bold;display: inline-block;line-height: 1.2em;}#sk-container-id-7 div.sk-label-container {text-align: center;}#sk-container-id-7 div.sk-container {/* jupyter's `normalize.less` sets `[hidden] { display: none; }` but bootstrap.min.css set `[hidden] { display: none !important; }` so we also need the `!important` here to be able to override the default hidden behavior on the sphinx rendered scikit-learn.org. See: https://github.com/scikit-learn/scikit-learn/issues/21755 */display: inline-block !important;position: relative;}#sk-container-id-7 div.sk-text-repr-fallback {display: none;}</style><div id=\"sk-container-id-7\" class=\"sk-top-container\"><div class=\"sk-text-repr-fallback\"><pre>RandomForestRegressor(max_depth=20, max_features=&#x27;sqrt&#x27;, min_samples_split=5)</pre><b>In a Jupyter environment, please rerun this cell to show the HTML representation or trust the notebook. <br />On GitHub, the HTML representation is unable to render, please try loading this page with nbviewer.org.</b></div><div class=\"sk-container\" hidden><div class=\"sk-item\"><div class=\"sk-estimator sk-toggleable\"><input class=\"sk-toggleable__control sk-hidden--visually\" id=\"sk-estimator-id-17\" type=\"checkbox\" checked><label for=\"sk-estimator-id-17\" class=\"sk-toggleable__label sk-toggleable__label-arrow\">RandomForestRegressor</label><div class=\"sk-toggleable__content\"><pre>RandomForestRegressor(max_depth=20, max_features=&#x27;sqrt&#x27;, min_samples_split=5)</pre></div></div></div></div></div>"
     },
     "execution_count": 41,
     "metadata": {},
     "output_type": "execute_result"
    }
   ],
   "source": [
    "# Train a new random forest regressor using the best parameters\n",
    "best_params = grid_search.best_params_\n",
    "rf_best = RandomForestRegressor(**best_params)\n",
    "rf_best.fit(X_train_enc, y_train)"
   ],
   "metadata": {
    "collapsed": false
   }
  },
  {
   "cell_type": "code",
   "execution_count": 42,
   "outputs": [
    {
     "name": "stdout",
     "output_type": "stream",
     "text": [
      "0.8487195044124904\n",
      "0.571399607627878\n"
     ]
    }
   ],
   "source": [
    "print(rf_best.score(X_train_enc, y_train))\n",
    "print(rf_best.score(X_test_enc, y_test))"
   ],
   "metadata": {
    "collapsed": false
   }
  },
  {
   "cell_type": "code",
   "execution_count": 43,
   "outputs": [
    {
     "name": "stdout",
     "output_type": "stream",
     "text": [
      "Feature Importances:  [0.39849289 0.07733413 0.09227545 0.09983984 0.20434026 0.0559387\n",
      " 0.00664262 0.00485441 0.00748534 0.002817   0.00630144 0.0023337\n",
      " 0.00439875 0.01157546 0.00869875 0.01667126]\n"
     ]
    }
   ],
   "source": [
    "# Output the feature importances\n",
    "feature_importances = rf_best.feature_importances_\n",
    "print(\"Feature Importances: \", feature_importances)"
   ],
   "metadata": {
    "collapsed": false
   }
  },
  {
   "cell_type": "code",
   "execution_count": 45,
   "outputs": [
    {
     "data": {
      "text/plain": "<AxesSubplot:>"
     },
     "execution_count": 45,
     "metadata": {},
     "output_type": "execute_result"
    },
    {
     "data": {
      "text/plain": "<Figure size 1200x600 with 1 Axes>",
      "image/png": "[encoded data removed]"
     },
     "metadata": {},
     "output_type": "display_data"
    }
   ],
   "source": [
    "importance = pd.Series(rf_best.feature_importances_)\n",
    "importance.sort_values(inplace=True, ascending=False)\n",
    "importance.plot.bar(figsize=(12,6))"
   ],
   "metadata": {
    "collapsed": false
   }
  },
  {
   "cell_type": "code",
   "execution_count": 46,
   "outputs": [
    {
     "data": {
      "text/plain": "Index(['Winery', 'Sub Region', 'Year', 'Alcohol', 'Review Score',\n       'Main Variety', 'Region_Castilla y León', 'Region_Rare',\n       'Region_La Rioja (España)', 'Region_Galicia', 'Region_Cataluña',\n       'Region_Castilla La Mancha', 'Region_Unknown', 'Type_Red', 'Type_White',\n       'Variety Class_Pure'],\n      dtype='object')"
     },
     "execution_count": 46,
     "metadata": {},
     "output_type": "execute_result"
    }
   ],
   "source": [
    "X_train_ohe.columns"
   ],
   "metadata": {
    "collapsed": false
   }
  },
  {
   "cell_type": "code",
   "execution_count": 47,
   "outputs": [],
   "source": [
    "X_train_preds = rf_best.predict(X_train_enc)\n",
    "X_test_preds = rf_best.predict(X_test_enc)"
   ],
   "metadata": {
    "collapsed": false
   }
  },
  {
   "cell_type": "code",
   "execution_count": 50,
   "outputs": [
    {
     "name": "stdout",
     "output_type": "stream",
     "text": [
      "train mse: 31.920942362745677\n",
      "train rmse: 5.64986215431365\n",
      "train r2: 0.8487195044124904\n",
      "\n",
      "test mse: 90.7604767012992\n",
      "test rmse: 9.526829309969775\n",
      "test r2: 0.571399607627878\n"
     ]
    }
   ],
   "source": [
    "# check model performance:\n",
    "\n",
    "print('train mse: {}'.format(mean_squared_error(y_train, X_train_preds)))\n",
    "print('train rmse: {}'.format(sqrt(mean_squared_error(y_train, X_train_preds))))\n",
    "print('train r2: {}'.format(r2_score(y_train, X_train_preds)))\n",
    "print()\n",
    "print('test mse: {}'.format(mean_squared_error(y_test, X_test_preds)))\n",
    "print('test rmse: {}'.format(sqrt(mean_squared_error(y_test, X_test_preds))))\n",
    "print('test r2: {}'.format(r2_score(y_test, X_test_preds)))"
   ],
   "metadata": {
    "collapsed": false
   }
  },
  {
   "cell_type": "code",
   "execution_count": null,
   "outputs": [],
   "source": [],
   "metadata": {
    "collapsed": false
   }
  }
 ],
 "metadata": {
  "kernelspec": {
   "display_name": "Python 3",
   "language": "python",
   "name": "python3"
  },
  "language_info": {
   "codemirror_mode": {
    "name": "ipython",
    "version": 2
   },
   "file_extension": ".py",
   "mimetype": "text/x-python",
   "name": "python",
   "nbconvert_exporter": "python",
   "pygments_lexer": "ipython2",
   "version": "2.7.6"
  }
 },
 "nbformat": 4,
 "nbformat_minor": 0
}
