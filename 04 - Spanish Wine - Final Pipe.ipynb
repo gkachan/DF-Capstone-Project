{
 "cells": [
  {
   "cell_type": "code",
   "execution_count": 1,
   "metadata": {
    "collapsed": true
   },
   "outputs": [],
   "source": [
    "import numpy as np\n",
    "import pandas as pd\n",
    "import matplotlib.pyplot as plt\n",
    "\n",
    "from sklearn.model_selection import train_test_split\n",
    "from feature_engine.encoding import RareLabelEncoder\n",
    "from feature_engine.encoding import OneHotEncoder\n",
    "from sklearn.pipeline import Pipeline\n",
    "from sklearn.preprocessing import MinMaxScaler\n",
    "from sklearn.ensemble import ExtraTreesRegressor, GradientBoostingRegressor, HistGradientBoostingRegressor, RandomForestRegressor, BaggingRegressor, AdaBoostRegressor\n",
    "from sklearn.metrics import mean_squared_error, r2_score\n",
    "from sklearn.tree import DecisionTreeRegressor, ExtraTreeRegressor\n",
    "from sklearn.linear_model import LinearRegression\n",
    "from sklearn.neural_network import MLPRegressor\n",
    "from lightgbm import LGBMRegressor\n",
    "\n",
    "from sklearn.model_selection import GridSearchCV\n",
    "\n",
    "from feature_engine.encoding import OrdinalEncoder\n",
    "\n",
    "from math import sqrt"
   ]
  },
  {
   "cell_type": "code",
   "execution_count": 5,
   "outputs": [],
   "source": [
    "spain = pd.read_csv('spanish_wines_processed.csv')"
   ],
   "metadata": {
    "collapsed": false
   }
  },
  {
   "cell_type": "markdown",
   "source": [
    "### Train/Test Split"
   ],
   "metadata": {
    "collapsed": false
   }
  },
  {
   "cell_type": "code",
   "execution_count": 6,
   "outputs": [
    {
     "data": {
      "text/plain": "((13455, 9), (3364, 9))"
     },
     "execution_count": 6,
     "metadata": {},
     "output_type": "execute_result"
    }
   ],
   "source": [
    "X_train, X_test, y_train, y_test = train_test_split(\n",
    "    spain[['Winery','Region','Sub Region','Year','Type','Alcohol','Review Score','Main Variety','Variety Class']],\n",
    "    spain['Price'],\n",
    "    test_size=0.2,\n",
    "    random_state=0,\n",
    ")\n",
    "\n",
    "X_train.shape, X_test.shape"
   ],
   "metadata": {
    "collapsed": false
   }
  },
  {
   "cell_type": "markdown",
   "source": [
    "### Pipeline"
   ],
   "metadata": {
    "collapsed": false
   }
  },
  {
   "cell_type": "code",
   "execution_count": 7,
   "outputs": [],
   "source": [
    "spain_finalpipe = Pipeline([\n",
    "\n",
    "    ## Rare Label Encoding\n",
    "    ('rare_encoder',\n",
    "     RareLabelEncoder(tol=0.05, n_categories=4, variables=['Type','Region'])),\n",
    "\n",
    "    ## Ordered Ordinal Encoding\n",
    "    ('ordinal_encoder',\n",
    "     OrdinalEncoder(encoding_method='ordered', variables=['Winery','Sub Region','Main Variety'], unseen='encode')),\n",
    "\n",
    "    ## One Hot Encoding\n",
    "    ('encoder_rare_label',\n",
    "     OneHotEncoder(variables=['Region','Type','Variety Class'], drop_last=True)),\n",
    "\n",
    "    ## Scaling\n",
    "    ('minmax_scaler',\n",
    "     MinMaxScaler()),\n",
    "\n",
    "    ## Modelling\n",
    "    ('lgbm_regressor',\n",
    "     LGBMRegressor(n_estimators=200, num_leaves=30, reg_alpha=0.5, reg_lambda=0))\n",
    "])"
   ],
   "metadata": {
    "collapsed": false
   }
  },
  {
   "cell_type": "code",
   "execution_count": 9,
   "outputs": [
    {
     "data": {
      "text/plain": "Pipeline(steps=[('rare_encoder',\n                 RareLabelEncoder(n_categories=4,\n                                  variables=['Type', 'Region'])),\n                ('ordinal_encoder',\n                 OrdinalEncoder(unseen='encode',\n                                variables=['Winery', 'Sub Region',\n                                           'Main Variety'])),\n                ('encoder_rare_label',\n                 OneHotEncoder(drop_last=True,\n                               variables=['Region', 'Type', 'Variety Class'])),\n                ('minmax_scaler', MinMaxScaler()),\n                ('lgbm_regressor',\n                 LGBMRegressor(n_estimators=200, num_leaves=30, reg_alpha=0.5,\n                               reg_lambda=0))])",
      "text/html": "<style>#sk-container-id-1 {color: black;background-color: white;}#sk-container-id-1 pre{padding: 0;}#sk-container-id-1 div.sk-toggleable {background-color: white;}#sk-container-id-1 label.sk-toggleable__label {cursor: pointer;display: block;width: 100%;margin-bottom: 0;padding: 0.3em;box-sizing: border-box;text-align: center;}#sk-container-id-1 label.sk-toggleable__label-arrow:before {content: \"▸\";float: left;margin-right: 0.25em;color: #696969;}#sk-container-id-1 label.sk-toggleable__label-arrow:hover:before {color: black;}#sk-container-id-1 div.sk-estimator:hover label.sk-toggleable__label-arrow:before {color: black;}#sk-container-id-1 div.sk-toggleable__content {max-height: 0;max-width: 0;overflow: hidden;text-align: left;background-color: #f0f8ff;}#sk-container-id-1 div.sk-toggleable__content pre {margin: 0.2em;color: black;border-radius: 0.25em;background-color: #f0f8ff;}#sk-container-id-1 input.sk-toggleable__control:checked~div.sk-toggleable__content {max-height: 200px;max-width: 100%;overflow: auto;}#sk-container-id-1 input.sk-toggleable__control:checked~label.sk-toggleable__label-arrow:before {content: \"▾\";}#sk-container-id-1 div.sk-estimator input.sk-toggleable__control:checked~label.sk-toggleable__label {background-color: #d4ebff;}#sk-container-id-1 div.sk-label input.sk-toggleable__control:checked~label.sk-toggleable__label {background-color: #d4ebff;}#sk-container-id-1 input.sk-hidden--visually {border: 0;clip: rect(1px 1px 1px 1px);clip: rect(1px, 1px, 1px, 1px);height: 1px;margin: -1px;overflow: hidden;padding: 0;position: absolute;width: 1px;}#sk-container-id-1 div.sk-estimator {font-family: monospace;background-color: #f0f8ff;border: 1px dotted black;border-radius: 0.25em;box-sizing: border-box;margin-bottom: 0.5em;}#sk-container-id-1 div.sk-estimator:hover {background-color: #d4ebff;}#sk-container-id-1 div.sk-parallel-item::after {content: \"\";width: 100%;border-bottom: 1px solid gray;flex-grow: 1;}#sk-container-id-1 div.sk-label:hover label.sk-toggleable__label {background-color: #d4ebff;}#sk-container-id-1 div.sk-serial::before {content: \"\";position: absolute;border-left: 1px solid gray;box-sizing: border-box;top: 0;bottom: 0;left: 50%;z-index: 0;}#sk-container-id-1 div.sk-serial {display: flex;flex-direction: column;align-items: center;background-color: white;padding-right: 0.2em;padding-left: 0.2em;position: relative;}#sk-container-id-1 div.sk-item {position: relative;z-index: 1;}#sk-container-id-1 div.sk-parallel {display: flex;align-items: stretch;justify-content: center;background-color: white;position: relative;}#sk-container-id-1 div.sk-item::before, #sk-container-id-1 div.sk-parallel-item::before {content: \"\";position: absolute;border-left: 1px solid gray;box-sizing: border-box;top: 0;bottom: 0;left: 50%;z-index: -1;}#sk-container-id-1 div.sk-parallel-item {display: flex;flex-direction: column;z-index: 1;position: relative;background-color: white;}#sk-container-id-1 div.sk-parallel-item:first-child::after {align-self: flex-end;width: 50%;}#sk-container-id-1 div.sk-parallel-item:last-child::after {align-self: flex-start;width: 50%;}#sk-container-id-1 div.sk-parallel-item:only-child::after {width: 0;}#sk-container-id-1 div.sk-dashed-wrapped {border: 1px dashed gray;margin: 0 0.4em 0.5em 0.4em;box-sizing: border-box;padding-bottom: 0.4em;background-color: white;}#sk-container-id-1 div.sk-label label {font-family: monospace;font-weight: bold;display: inline-block;line-height: 1.2em;}#sk-container-id-1 div.sk-label-container {text-align: center;}#sk-container-id-1 div.sk-container {/* jupyter's `normalize.less` sets `[hidden] { display: none; }` but bootstrap.min.css set `[hidden] { display: none !important; }` so we also need the `!important` here to be able to override the default hidden behavior on the sphinx rendered scikit-learn.org. See: https://github.com/scikit-learn/scikit-learn/issues/21755 */display: inline-block !important;position: relative;}#sk-container-id-1 div.sk-text-repr-fallback {display: none;}</style><div id=\"sk-container-id-1\" class=\"sk-top-container\"><div class=\"sk-text-repr-fallback\"><pre>Pipeline(steps=[(&#x27;rare_encoder&#x27;,\n                 RareLabelEncoder(n_categories=4,\n                                  variables=[&#x27;Type&#x27;, &#x27;Region&#x27;])),\n                (&#x27;ordinal_encoder&#x27;,\n                 OrdinalEncoder(unseen=&#x27;encode&#x27;,\n                                variables=[&#x27;Winery&#x27;, &#x27;Sub Region&#x27;,\n                                           &#x27;Main Variety&#x27;])),\n                (&#x27;encoder_rare_label&#x27;,\n                 OneHotEncoder(drop_last=True,\n                               variables=[&#x27;Region&#x27;, &#x27;Type&#x27;, &#x27;Variety Class&#x27;])),\n                (&#x27;minmax_scaler&#x27;, MinMaxScaler()),\n                (&#x27;lgbm_regressor&#x27;,\n                 LGBMRegressor(n_estimators=200, num_leaves=30, reg_alpha=0.5,\n                               reg_lambda=0))])</pre><b>In a Jupyter environment, please rerun this cell to show the HTML representation or trust the notebook. <br />On GitHub, the HTML representation is unable to render, please try loading this page with nbviewer.org.</b></div><div class=\"sk-container\" hidden><div class=\"sk-item sk-dashed-wrapped\"><div class=\"sk-label-container\"><div class=\"sk-label sk-toggleable\"><input class=\"sk-toggleable__control sk-hidden--visually\" id=\"sk-estimator-id-1\" type=\"checkbox\" ><label for=\"sk-estimator-id-1\" class=\"sk-toggleable__label sk-toggleable__label-arrow\">Pipeline</label><div class=\"sk-toggleable__content\"><pre>Pipeline(steps=[(&#x27;rare_encoder&#x27;,\n                 RareLabelEncoder(n_categories=4,\n                                  variables=[&#x27;Type&#x27;, &#x27;Region&#x27;])),\n                (&#x27;ordinal_encoder&#x27;,\n                 OrdinalEncoder(unseen=&#x27;encode&#x27;,\n                                variables=[&#x27;Winery&#x27;, &#x27;Sub Region&#x27;,\n                                           &#x27;Main Variety&#x27;])),\n                (&#x27;encoder_rare_label&#x27;,\n                 OneHotEncoder(drop_last=True,\n                               variables=[&#x27;Region&#x27;, &#x27;Type&#x27;, &#x27;Variety Class&#x27;])),\n                (&#x27;minmax_scaler&#x27;, MinMaxScaler()),\n                (&#x27;lgbm_regressor&#x27;,\n                 LGBMRegressor(n_estimators=200, num_leaves=30, reg_alpha=0.5,\n                               reg_lambda=0))])</pre></div></div></div><div class=\"sk-serial\"><div class=\"sk-item\"><div class=\"sk-estimator sk-toggleable\"><input class=\"sk-toggleable__control sk-hidden--visually\" id=\"sk-estimator-id-2\" type=\"checkbox\" ><label for=\"sk-estimator-id-2\" class=\"sk-toggleable__label sk-toggleable__label-arrow\">RareLabelEncoder</label><div class=\"sk-toggleable__content\"><pre>RareLabelEncoder(n_categories=4, variables=[&#x27;Type&#x27;, &#x27;Region&#x27;])</pre></div></div></div><div class=\"sk-item\"><div class=\"sk-estimator sk-toggleable\"><input class=\"sk-toggleable__control sk-hidden--visually\" id=\"sk-estimator-id-3\" type=\"checkbox\" ><label for=\"sk-estimator-id-3\" class=\"sk-toggleable__label sk-toggleable__label-arrow\">OrdinalEncoder</label><div class=\"sk-toggleable__content\"><pre>OrdinalEncoder(unseen=&#x27;encode&#x27;,\n               variables=[&#x27;Winery&#x27;, &#x27;Sub Region&#x27;, &#x27;Main Variety&#x27;])</pre></div></div></div><div class=\"sk-item\"><div class=\"sk-estimator sk-toggleable\"><input class=\"sk-toggleable__control sk-hidden--visually\" id=\"sk-estimator-id-4\" type=\"checkbox\" ><label for=\"sk-estimator-id-4\" class=\"sk-toggleable__label sk-toggleable__label-arrow\">OneHotEncoder</label><div class=\"sk-toggleable__content\"><pre>OneHotEncoder(drop_last=True, variables=[&#x27;Region&#x27;, &#x27;Type&#x27;, &#x27;Variety Class&#x27;])</pre></div></div></div><div class=\"sk-item\"><div class=\"sk-estimator sk-toggleable\"><input class=\"sk-toggleable__control sk-hidden--visually\" id=\"sk-estimator-id-5\" type=\"checkbox\" ><label for=\"sk-estimator-id-5\" class=\"sk-toggleable__label sk-toggleable__label-arrow\">MinMaxScaler</label><div class=\"sk-toggleable__content\"><pre>MinMaxScaler()</pre></div></div></div><div class=\"sk-item\"><div class=\"sk-estimator sk-toggleable\"><input class=\"sk-toggleable__control sk-hidden--visually\" id=\"sk-estimator-id-6\" type=\"checkbox\" ><label for=\"sk-estimator-id-6\" class=\"sk-toggleable__label sk-toggleable__label-arrow\">LGBMRegressor</label><div class=\"sk-toggleable__content\"><pre>LGBMRegressor(n_estimators=200, num_leaves=30, reg_alpha=0.5, reg_lambda=0)</pre></div></div></div></div></div></div></div>"
     },
     "execution_count": 9,
     "metadata": {},
     "output_type": "execute_result"
    }
   ],
   "source": [
    "spain_finalpipe.fit(X_train,y_train)"
   ],
   "metadata": {
    "collapsed": false
   }
  },
  {
   "cell_type": "code",
   "execution_count": 13,
   "outputs": [
    {
     "name": "stdout",
     "output_type": "stream",
     "text": [
      "0.7522756240718298\n",
      "0.5632321685382102\n"
     ]
    }
   ],
   "source": [
    "print(spain_finalpipe.score(X_train, y_train))\n",
    "print(spain_finalpipe.score(X_test, y_test))"
   ],
   "metadata": {
    "collapsed": false
   }
  },
  {
   "cell_type": "markdown",
   "source": [
    "### Conclusions"
   ],
   "metadata": {
    "collapsed": false
   }
  },
  {
   "cell_type": "markdown",
   "source": [
    "When evaluating the accuracy of the models on both the training and test sets, it became apparent that the model was over-fitted on the training set.\n",
    "\n",
    "While this outcome may be expected given the nature of the models used, further investigation is required to address this issue."
   ],
   "metadata": {
    "collapsed": false
   }
  },
  {
   "cell_type": "markdown",
   "source": [
    "Although the current model falls short of accurately predicting the price of wine, there have been valuable insights gained through the process.\n",
    "\n",
    "One important learning from the project is the feature importance metrics obtained from the model predictions.\n",
    "\n",
    "The results indicate that the winery where the wine is produced has a greater impact on the price than the type of grape.\n",
    "\n",
    "Additionally, ratings provided by experts appear to have more impact on the price than alcohol levels or the year of production.\n",
    "\n",
    "While these assumptions cannot be made with complete certainty, they provide valuable insight into how to further work with this dataset to improve price prediction."
   ],
   "metadata": {
    "collapsed": false
   }
  },
  {
   "cell_type": "markdown",
   "source": [
    "There are several additional factors that could potentially impact the price of wine, including pH levels or acidity, residual sugar, and the optimal point of consumption. These variables were not accounted for during the web scraping process.\n",
    "\n",
    "The price of wine is also influenced by numerous uncontrollable factors, such as the variability in production resulting from weather and soil conditions, the unpredictable effects of ageing on wine quality and price, and economic factors like market fluctuations, supply and demand.\n",
    "\n",
    "Given the sheer size of the wine industry, particularly in Spain, it is likely that additional data would be necessary to sufficiently train algorithms for accurately predicting wine prices."
   ],
   "metadata": {
    "collapsed": false
   }
  },
  {
   "cell_type": "code",
   "execution_count": null,
   "outputs": [],
   "source": [],
   "metadata": {
    "collapsed": false
   }
  }
 ],
 "metadata": {
  "kernelspec": {
   "display_name": "Python 3",
   "language": "python",
   "name": "python3"
  },
  "language_info": {
   "codemirror_mode": {
    "name": "ipython",
    "version": 2
   },
   "file_extension": ".py",
   "mimetype": "text/x-python",
   "name": "python",
   "nbconvert_exporter": "python",
   "pygments_lexer": "ipython2",
   "version": "2.7.6"
  }
 },
 "nbformat": 4,
 "nbformat_minor": 0
}
