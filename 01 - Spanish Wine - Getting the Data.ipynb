{
 "cells": [
  {
   "cell_type": "code",
   "execution_count": 2,
   "outputs": [],
   "source": [
    "import pandas as pd"
   ],
   "metadata": {
    "collapsed": false
   }
  },
  {
   "cell_type": "code",
   "execution_count": 3,
   "outputs": [
    {
     "data": {
      "text/plain": "                                     Wine  \\\n0                   Pradorey Gran Reserva   \n1           Guitián Fermentado en Barrica   \n2  Casa Castillo Monastrell de Pie Franco   \n3                Marqués de Alella Allier   \n4       Raimat Cabernet Sauvignon El Molí   \n\n                                   Winery Country           Region  \\\n0  Real Sitio de la Ventosilla (Pradorey)  España  Castilla y León   \n1                        Bodegas A Tapada  España          Galicia   \n2                           Casa Castillo  España           Murcia   \n3                                  Parxet  España         Cataluña   \n4                                  Raimat  España         Cataluña   \n\n          Sub Region  Year    Type  \\\n0   Ribera del Duero  2009   Tinto   \n1         Valdeorras  1998  Blanco   \n2            Jumilla  1998   Tinto   \n3             Alella  1999  Blanco   \n4  Costers del Segre  1994   Tinto   \n\n                                               Grape Alcohol  Review Score  \\\n0  Tempranillo (95%), Cabernet Sauvignon (3%), Me...   15.00          16.0   \n1                                     Godello (100%)   12.00          16.5   \n2                                  Monastrell (100%)     NaN          16.5   \n3                                  Chardonnay (100%)   13.00          16.0   \n4                          Cabernet Sauvignon (100%)   13.50          16.0   \n\n    Price  \n0   40.00  \n1   13.82  \n2  \\nInes  \n3  \\nArom  \n4   15.00  ",
      "text/html": "<div>\n<style scoped>\n    .dataframe tbody tr th:only-of-type {\n        vertical-align: middle;\n    }\n\n    .dataframe tbody tr th {\n        vertical-align: top;\n    }\n\n    .dataframe thead th {\n        text-align: right;\n    }\n</style>\n<table border=\"1\" class=\"dataframe\">\n  <thead>\n    <tr style=\"text-align: right;\">\n      <th></th>\n      <th>Wine</th>\n      <th>Winery</th>\n      <th>Country</th>\n      <th>Region</th>\n      <th>Sub Region</th>\n      <th>Year</th>\n      <th>Type</th>\n      <th>Grape</th>\n      <th>Alcohol</th>\n      <th>Review Score</th>\n      <th>Price</th>\n    </tr>\n  </thead>\n  <tbody>\n    <tr>\n      <th>0</th>\n      <td>Pradorey Gran Reserva</td>\n      <td>Real Sitio de la Ventosilla (Pradorey)</td>\n      <td>España</td>\n      <td>Castilla y León</td>\n      <td>Ribera del Duero</td>\n      <td>2009</td>\n      <td>Tinto</td>\n      <td>Tempranillo (95%), Cabernet Sauvignon (3%), Me...</td>\n      <td>15.00</td>\n      <td>16.0</td>\n      <td>40.00</td>\n    </tr>\n    <tr>\n      <th>1</th>\n      <td>Guitián Fermentado en Barrica</td>\n      <td>Bodegas A Tapada</td>\n      <td>España</td>\n      <td>Galicia</td>\n      <td>Valdeorras</td>\n      <td>1998</td>\n      <td>Blanco</td>\n      <td>Godello (100%)</td>\n      <td>12.00</td>\n      <td>16.5</td>\n      <td>13.82</td>\n    </tr>\n    <tr>\n      <th>2</th>\n      <td>Casa Castillo Monastrell de Pie Franco</td>\n      <td>Casa Castillo</td>\n      <td>España</td>\n      <td>Murcia</td>\n      <td>Jumilla</td>\n      <td>1998</td>\n      <td>Tinto</td>\n      <td>Monastrell (100%)</td>\n      <td>NaN</td>\n      <td>16.5</td>\n      <td>\\nInes</td>\n    </tr>\n    <tr>\n      <th>3</th>\n      <td>Marqués de Alella Allier</td>\n      <td>Parxet</td>\n      <td>España</td>\n      <td>Cataluña</td>\n      <td>Alella</td>\n      <td>1999</td>\n      <td>Blanco</td>\n      <td>Chardonnay (100%)</td>\n      <td>13.00</td>\n      <td>16.0</td>\n      <td>\\nArom</td>\n    </tr>\n    <tr>\n      <th>4</th>\n      <td>Raimat Cabernet Sauvignon El Molí</td>\n      <td>Raimat</td>\n      <td>España</td>\n      <td>Cataluña</td>\n      <td>Costers del Segre</td>\n      <td>1994</td>\n      <td>Tinto</td>\n      <td>Cabernet Sauvignon (100%)</td>\n      <td>13.50</td>\n      <td>16.0</td>\n      <td>15.00</td>\n    </tr>\n  </tbody>\n</table>\n</div>"
     },
     "execution_count": 3,
     "metadata": {},
     "output_type": "execute_result"
    }
   ],
   "source": [
    "winez = pd.read_csv('winez_0_to_25965.csv')\n",
    "winez.head()"
   ],
   "metadata": {
    "collapsed": false
   }
  },
  {
   "cell_type": "code",
   "execution_count": 4,
   "outputs": [],
   "source": [
    "## Transforming Object variables to Numeric\n",
    "winez['Price'] = pd.to_numeric(winez['Price'], errors='coerce')\n",
    "winez['Alcohol'] = pd.to_numeric(winez['Alcohol'], errors='coerce')\n",
    "winez['Year'] = pd.to_numeric(winez['Year'], errors='coerce')\n",
    "## Dropping Null values in Price column\n",
    "winez.dropna(subset='Price',inplace=True)\n",
    "## Making sure there are no wines at 0€\n",
    "wines = winez[winez['Price'] >= 1]\n",
    "## Making sure there are no wines after 2023\n",
    "wines = wines[wines['Year'] <= 2023]"
   ],
   "metadata": {
    "collapsed": false
   }
  },
  {
   "cell_type": "code",
   "execution_count": 5,
   "outputs": [],
   "source": [
    "## Selecting Spanish wines only\n",
    "spanish = wines[wines['Country']=='España'].copy()\n",
    "spanish.reset_index(drop=True,inplace=True)"
   ],
   "metadata": {
    "collapsed": false
   }
  },
  {
   "cell_type": "code",
   "execution_count": 6,
   "outputs": [
    {
     "data": {
      "text/plain": "                                   Wine  \\\n0                 Pradorey Gran Reserva   \n1         Guitián Fermentado en Barrica   \n2     Raimat Cabernet Sauvignon El Molí   \n3                Valsacro Tinto Crianza   \n4  Ruiz Villanueva Maceración Carbónica   \n\n                                   Winery              Region  \\\n0  Real Sitio de la Ventosilla (Pradorey)     Castilla y León   \n1                        Bodegas A Tapada             Galicia   \n2                                  Raimat            Cataluña   \n3                        Bodegas Valsacro   La Rioja (España)   \n4             Bodega Ecológica Bruno Ruiz  Castilla La Mancha   \n\n                 Sub Region    Year   Type  \\\n0          Ribera del Duero  2009.0    Red   \n1                Valdeorras  1998.0  White   \n2         Costers del Segre  1994.0    Red   \n3                     Rioja  1997.0    Red   \n4  Otros Castilla La Mancha  1999.0    Red   \n\n                                               Grape  Alcohol  Review Score  \\\n0  Tempranillo (95%), Cabernet Sauvignon (3%), Me...     15.0          16.0   \n1                                     Godello (100%)     12.0          16.5   \n2                          Cabernet Sauvignon (100%)     13.5          16.0   \n3      Tempranillo (50%), Otras (40%), Mazuelo (10%)     13.0          14.5   \n4                                 Tempranillo (100%)     12.0          12.5   \n\n   Price  \n0  40.00  \n1  13.82  \n2  15.00  \n3  18.00  \n4   4.50  ",
      "text/html": "<div>\n<style scoped>\n    .dataframe tbody tr th:only-of-type {\n        vertical-align: middle;\n    }\n\n    .dataframe tbody tr th {\n        vertical-align: top;\n    }\n\n    .dataframe thead th {\n        text-align: right;\n    }\n</style>\n<table border=\"1\" class=\"dataframe\">\n  <thead>\n    <tr style=\"text-align: right;\">\n      <th></th>\n      <th>Wine</th>\n      <th>Winery</th>\n      <th>Region</th>\n      <th>Sub Region</th>\n      <th>Year</th>\n      <th>Type</th>\n      <th>Grape</th>\n      <th>Alcohol</th>\n      <th>Review Score</th>\n      <th>Price</th>\n    </tr>\n  </thead>\n  <tbody>\n    <tr>\n      <th>0</th>\n      <td>Pradorey Gran Reserva</td>\n      <td>Real Sitio de la Ventosilla (Pradorey)</td>\n      <td>Castilla y León</td>\n      <td>Ribera del Duero</td>\n      <td>2009.0</td>\n      <td>Red</td>\n      <td>Tempranillo (95%), Cabernet Sauvignon (3%), Me...</td>\n      <td>15.0</td>\n      <td>16.0</td>\n      <td>40.00</td>\n    </tr>\n    <tr>\n      <th>1</th>\n      <td>Guitián Fermentado en Barrica</td>\n      <td>Bodegas A Tapada</td>\n      <td>Galicia</td>\n      <td>Valdeorras</td>\n      <td>1998.0</td>\n      <td>White</td>\n      <td>Godello (100%)</td>\n      <td>12.0</td>\n      <td>16.5</td>\n      <td>13.82</td>\n    </tr>\n    <tr>\n      <th>2</th>\n      <td>Raimat Cabernet Sauvignon El Molí</td>\n      <td>Raimat</td>\n      <td>Cataluña</td>\n      <td>Costers del Segre</td>\n      <td>1994.0</td>\n      <td>Red</td>\n      <td>Cabernet Sauvignon (100%)</td>\n      <td>13.5</td>\n      <td>16.0</td>\n      <td>15.00</td>\n    </tr>\n    <tr>\n      <th>3</th>\n      <td>Valsacro Tinto Crianza</td>\n      <td>Bodegas Valsacro</td>\n      <td>La Rioja (España)</td>\n      <td>Rioja</td>\n      <td>1997.0</td>\n      <td>Red</td>\n      <td>Tempranillo (50%), Otras (40%), Mazuelo (10%)</td>\n      <td>13.0</td>\n      <td>14.5</td>\n      <td>18.00</td>\n    </tr>\n    <tr>\n      <th>4</th>\n      <td>Ruiz Villanueva Maceración Carbónica</td>\n      <td>Bodega Ecológica Bruno Ruiz</td>\n      <td>Castilla La Mancha</td>\n      <td>Otros Castilla La Mancha</td>\n      <td>1999.0</td>\n      <td>Red</td>\n      <td>Tempranillo (100%)</td>\n      <td>12.0</td>\n      <td>12.5</td>\n      <td>4.50</td>\n    </tr>\n  </tbody>\n</table>\n</div>"
     },
     "execution_count": 6,
     "metadata": {},
     "output_type": "execute_result"
    }
   ],
   "source": [
    "## Dealing with problems during webscraping\n",
    "spain = spanish[(spanish['Type'] == 'Tinto') | (spanish['Type'] == 'Blanco') | (spanish['Type'] == 'Rosado') | (spanish['Type'] == 'Dulce') | (spanish['Type'] == 'Espumoso') | (spanish['Type'] == 'Generoso')].copy()\n",
    "## Dropping duplicates\n",
    "spain.drop_duplicates(inplace=True)\n",
    "## Removing Country columns as all wines are from Spain now\n",
    "spain.drop('Country', axis=1, inplace=True)\n",
    "## Replacing Spanish nomenclature\n",
    "spain = spain.replace('N/D', 'Unknown')\n",
    "spain = spain.replace('Tinto','Red').replace('Blanco','White').replace('Rosado','Rose').replace('Espumoso','Sparkling').replace('Dule','Sweet').replace('Generoso','Generous')\n",
    "spain.head()"
   ],
   "metadata": {
    "collapsed": false
   }
  },
  {
   "cell_type": "code",
   "execution_count": null,
   "outputs": [],
   "source": [
    "## Saving the file\n",
    "spain.to_csv('spanish_wines.csv', index=False)"
   ],
   "metadata": {
    "collapsed": false
   }
  }
 ],
 "metadata": {
  "kernelspec": {
   "display_name": "Python 3",
   "language": "python",
   "name": "python3"
  },
  "language_info": {
   "codemirror_mode": {
    "name": "ipython",
    "version": 2
   },
   "file_extension": ".py",
   "mimetype": "text/x-python",
   "name": "python",
   "nbconvert_exporter": "python",
   "pygments_lexer": "ipython2",
   "version": "2.7.6"
  }
 },
 "nbformat": 4,
 "nbformat_minor": 0
}
