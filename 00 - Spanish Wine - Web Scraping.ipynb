{
 "cells": [
  {
   "cell_type": "code",
   "execution_count": 1,
   "metadata": {
    "collapsed": true
   },
   "outputs": [],
   "source": [
    "## Importing the libraries needed\n",
    "from bs4 import BeautifulSoup\n",
    "import requests\n",
    "import pandas as pd\n",
    "import numpy as np\n",
    "import re"
   ]
  },
  {
   "cell_type": "code",
   "execution_count": 2,
   "outputs": [],
   "source": [
    "## Getting the urls\n",
    "wine_urls = [f'http://elmundovino.elmundo.es/elmundovino/fichavino.html?param={k}' for k in range(0, 25965)]"
   ],
   "metadata": {
    "collapsed": false
   }
  },
  {
   "cell_type": "code",
   "execution_count": null,
   "outputs": [],
   "source": [
    "wine = []\n",
    "winery = []\n",
    "country = []\n",
    "region = []\n",
    "sub_region = []\n",
    "year = []\n",
    "w_type = []\n",
    "grape = []\n",
    "alcohol = []\n",
    "score = []\n",
    "price = []\n",
    "\n",
    "for link in wine_urls:\n",
    "    site = f'{link}'\n",
    "    resp = requests.get(site)\n",
    "    soup = BeautifulSoup(resp.text)\n",
    "\n",
    "    ## Getting the name of the wine\n",
    "    try:\n",
    "        name = soup.findAll('font')[10].text.replace('\\n','')\n",
    "        wine.append(name)\n",
    "    except:\n",
    "        wine.append('NaN')\n",
    "\n",
    "    ## Getting the winery name\n",
    "    try:\n",
    "        winery_name = soup.findAll('font')[11].text.replace('\\n','').replace('Bodega: ','')\n",
    "        winery.append(winery_name)\n",
    "    except:\n",
    "        wine.append('NaN')\n",
    "\n",
    "    ## Getting the country\n",
    "    try:\n",
    "        country_name = soup.findAll('font')[12].text.split('\\n')[1]\n",
    "        country.append(country_name)\n",
    "    except:\n",
    "        country.append('NaN')\n",
    "\n",
    "    ## Getting the region\n",
    "    try:\n",
    "        region_name = soup.findAll('font')[12].text.split('\\n')[3]\n",
    "        region.append(region_name)\n",
    "    except:\n",
    "        region.append('NaN')\n",
    "\n",
    "    ## Getting the sub-region\n",
    "    try:\n",
    "        sub_region_name = soup.findAll('font')[12].text.split('\\n')[4].replace('(','').replace(')','')\n",
    "        sub_region.append(sub_region_name)\n",
    "    except:\n",
    "        sub_region.append('NaN')\n",
    "\n",
    "    ## Getting the year\n",
    "    try:\n",
    "        wine_year = soup.findAll('font')[12].text.split('\\n')[6].replace('Año: ','')\n",
    "        year.append(wine_year)\n",
    "    except:\n",
    "        year.append('NaN')\n",
    "\n",
    "    ## Getting the type\n",
    "    try:\n",
    "        wine_type = soup.findAll('font')[12].text.split('\\n')[7].replace('Tipo:  ','')\n",
    "        w_type.append(wine_type)\n",
    "    except:\n",
    "        w_type.append('NaN')\n",
    "\n",
    "    ## Getting the grape(s)\n",
    "    try:\n",
    "        grape_type = soup.findAll('font')[12].text.split('\\n')[8].replace('Castas: ','')\n",
    "        grape.append(grape_type)\n",
    "    except:\n",
    "        grape.append('NaN')\n",
    "\n",
    "    ## Getting the alcohol level\n",
    "    try:\n",
    "        alcohol_level = soup.findAll('font')[12].text.split('\\n')[9].replace('Alcohol: ','').replace('º','')\n",
    "        alcohol.append(alcohol_level)\n",
    "    except:\n",
    "        alcohol.append('NaN')\n",
    "\n",
    "    ## Getting the review score\n",
    "    try:\n",
    "        review_score = soup.findAll('font')[13].text.replace('Puntuación:\\n','').replace('/20','')\n",
    "        score.append(review_score)\n",
    "    except:\n",
    "        score.append('NaN')\n",
    "\n",
    "    ## Getting the price\n",
    "    try:\n",
    "        wine_price = soup.findAll('font')[14].text.replace('Precio:\\n\\n','')[:5]\n",
    "        price.append(wine_price)\n",
    "    except:\n",
    "        price.append('NaN')"
   ],
   "metadata": {
    "collapsed": false,
    "pycharm": {
     "is_executing": true
    }
   }
  },
  {
   "cell_type": "code",
   "execution_count": 4,
   "outputs": [],
   "source": [
    "## Getting the data into a dataframe\n",
    "combined = list(zip(wine,winery,country,region,sub_region,year,w_type,grape,alcohol,score,price))\n",
    "df = pd.DataFrame(combined, columns=['Wine','Winery','Country','Region','Sub Region','Year','Type','Grape','Alcohol','Review Score','Price'])"
   ],
   "metadata": {
    "collapsed": false
   }
  },
  {
   "cell_type": "code",
   "execution_count": null,
   "outputs": [],
   "source": [
    "## Saving the dataframe in a csv file\n",
    "df.to_csv('winez_0_to_25965.csv', index=False)"
   ],
   "metadata": {
    "collapsed": false
   }
  }
 ],
 "metadata": {
  "kernelspec": {
   "display_name": "Python 3",
   "language": "python",
   "name": "python3"
  },
  "language_info": {
   "codemirror_mode": {
    "name": "ipython",
    "version": 2
   },
   "file_extension": ".py",
   "mimetype": "text/x-python",
   "name": "python",
   "nbconvert_exporter": "python",
   "pygments_lexer": "ipython2",
   "version": "2.7.6"
  }
 },
 "nbformat": 4,
 "nbformat_minor": 0
}
